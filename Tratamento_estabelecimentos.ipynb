{
  "nbformat": 4,
  "nbformat_minor": 0,
  "metadata": {
    "colab": {
      "provenance": [],
      "mount_file_id": "1mo7fZ-HO7omtXWDNR6P_cnxNW3c25qD3",
      "authorship_tag": "ABX9TyPXeCt7CGMaFjrSd7ZBLjyY",
      "include_colab_link": true
    },
    "kernelspec": {
      "name": "python3",
      "display_name": "Python 3"
    },
    "language_info": {
      "name": "python"
    }
  },
  "cells": [
    {
      "cell_type": "markdown",
      "metadata": {
        "id": "view-in-github",
        "colab_type": "text"
      },
      "source": [
        "<a href=\"https://colab.research.google.com/github/AlexSan1910/Tratamento_De_Dados_PySpark/blob/main/Tratamento_estabelecimentos.ipynb\" target=\"_parent\"><img src=\"https://colab.research.google.com/assets/colab-badge.svg\" alt=\"Open In Colab\"/></a>"
      ]
    },
    {
      "cell_type": "code",
      "execution_count": null,
      "metadata": {
        "colab": {
          "base_uri": "https://localhost:8080/"
        },
        "id": "J2b1Q83zf3ic",
        "outputId": "ad8a2c2a-e127-4ede-e189-84a243fb9b1e"
      },
      "outputs": [
        {
          "output_type": "stream",
          "name": "stdout",
          "text": [
            "Collecting pyspark\n",
            "  Downloading pyspark-3.5.0.tar.gz (316.9 MB)\n",
            "\u001b[2K     \u001b[90m━━━━━━━━━━━━━━━━━━━━━━━━━━━━━━━━━━━━━━━━\u001b[0m \u001b[32m316.9/316.9 MB\u001b[0m \u001b[31m3.9 MB/s\u001b[0m eta \u001b[36m0:00:00\u001b[0m\n",
            "\u001b[?25h  Preparing metadata (setup.py) ... \u001b[?25l\u001b[?25hdone\n",
            "Requirement already satisfied: py4j==0.10.9.7 in /usr/local/lib/python3.10/dist-packages (from pyspark) (0.10.9.7)\n",
            "Building wheels for collected packages: pyspark\n",
            "  Building wheel for pyspark (setup.py) ... \u001b[?25l\u001b[?25hdone\n",
            "  Created wheel for pyspark: filename=pyspark-3.5.0-py2.py3-none-any.whl size=317425345 sha256=cb560b8a4676e002cf18feb3f0d1915add60363e30ab4c935e29b00366363bef\n",
            "  Stored in directory: /root/.cache/pip/wheels/41/4e/10/c2cf2467f71c678cfc8a6b9ac9241e5e44a01940da8fbb17fc\n",
            "Successfully built pyspark\n",
            "Installing collected packages: pyspark\n",
            "Successfully installed pyspark-3.5.0\n"
          ]
        }
      ],
      "source": [
        "# Instalando o pyspark para utilização\n",
        "\n",
        "!pip install pyspark"
      ]
    },
    {
      "cell_type": "code",
      "source": [
        "# importando bibliotecas PySpark\n",
        "\n",
        "from pyspark.sql import SparkSession\n",
        "from pyspark.sql import functions as f\n",
        "\n",
        "spark = SparkSession.builder.appName(\"Estudos\").getOrCreate() # inicializando sessão spark"
      ],
      "metadata": {
        "id": "etAckVsggDlV"
      },
      "execution_count": null,
      "outputs": []
    },
    {
      "cell_type": "code",
      "source": [
        "# Buscando base de dados no Google Drive\n",
        "\n",
        "url = \"/content/drive/MyDrive/BasesSpark/estabelecimentos/part*\" # caminho da pasta com os dados que desejo\n",
        "\n",
        "df_estabelecimentos = spark.read.csv(\n",
        "    url,\n",
        "    sep=\";\", # definindo o separador desse arquivo csv\n",
        "    header=True, # irá assumoir que esse arquivo tem um cabeçalho \"Titulos\"\n",
        "    inferSchema=True, # Tentará identificar cada um dos tipos de dados da coluna\n",
        ")"
      ],
      "metadata": {
        "id": "dkY5YdjAgh46"
      },
      "execution_count": null,
      "outputs": []
    },
    {
      "cell_type": "code",
      "source": [
        "df_estabelecimentos.show()"
      ],
      "metadata": {
        "colab": {
          "base_uri": "https://localhost:8080/"
        },
        "id": "wChoWbbUizKj",
        "outputId": "c4a84ffa-6130-4c98-97e1-e3b76a630ee7"
      },
      "execution_count": null,
      "outputs": [
        {
          "output_type": "stream",
          "name": "stdout",
          "text": [
            "+-----------+----------+-------+---------------------------+--------------------+------------------+-----------------------+-------------------------+--------------------------+----+------------------------+---------------------+----------------------+------------------+--------------------+------+-------------------+------------------+--------+---+---------+-----+----------+-----+----------+----------+--------+--------------------+-----------------+-------------------------+\n",
            "|cnpj_basico|cnpj_ordem|cnpj_dv|identificador_matriz_filial|       nome_fantasia|situacao_cadastral|data_situacao_cadastral|motivo_situacao_cadastral|nome_da_cidade_no_exterior|pais|data_de_inicio_atividade|cnae_fiscal_principal|cnae_fiscal_secundaria|tipo_de_logradouro|          logradouro|numero|        complemento|            bairro|     cep| uf|municipio|ddd_1|telefone_1|ddd_2|telefone_2|ddd_do_fax|     fax|  correio_eletronico|situacao_especial|data_da_situacao_especial|\n",
            "+-----------+----------+-------+---------------------------+--------------------+------------------+-----------------------+-------------------------+--------------------------+----+------------------------+---------------------+----------------------+------------------+--------------------+------+-------------------+------------------+--------+---+---------+-----+----------+-----+----------+----------+--------+--------------------+-----------------+-------------------------+\n",
            "|       1879|         1|     96|                          1|      PIRAMIDE M. C.|                 8|               20011029|                        1|                      NULL|NULL|                19940509|              1412602|                  NULL|               RUA|     JOSE FIGLIOLINI|   608|               NULL|         VILA NILO| 2278020| SP|     7107| NULL|      NULL| NULL|      NULL|      NULL|    NULL|                NULL|             NULL|                     NULL|\n",
            "|       2818|         1|     43|                          1|                NULL|                 8|               20081231|                       71|                      NULL|NULL|                19940512|              4671100|                  NULL|               RUA|              BAQUIA|   416|               NULL|VL NOVA MANCHESTER| 3443000| SP|     7107| NULL|      NULL| NULL|      NULL|      NULL|    NULL|                NULL|             NULL|                     NULL|\n",
            "|       3110|         1|      7|                          1|                NULL|                 8|               19971231|                        1|                      NULL|NULL|                19940512|              4789007|                  NULL|               RUA|     LEOCADIA CINTRA|   180|            CONJ 83|             MOOCA| 3112040| SP|     7107| NULL|      NULL| NULL|      NULL|      NULL|    NULL|                NULL|             NULL|                     NULL|\n",
            "|       3733|         1|     80|                          1|                NULL|                 8|               20081231|                       71|                      NULL|NULL|                19940513|              7490101|                  NULL|               RUA|        AFONSO CELSO|  1102|             CASA 1|      VILA MARIANA| 4119061| SP|     7107| NULL|      NULL| NULL|      NULL|      NULL|    NULL|                NULL|             NULL|                     NULL|\n",
            "|       4628|         3|     27|                          2|   EMBROIDERY & GIFT|                 8|               19980429|                        1|                      NULL|NULL|                19950509|              4755501|                  NULL|               RUA|DOUTOR GABRIEL NI...|   177|               NULL|       RUDGE RAMOS| 9632040| SP|     7075| NULL|      NULL| NULL|      NULL|      NULL|    NULL|                NULL|             NULL|                     NULL|\n",
            "|       4628|         4|      8|                          2|                NULL|                 8|               20040719|                        1|                      NULL|NULL|                19990715|              4755502|                  NULL|           AVENIDA|   SENADOR VERGUEIRO|  4556|               NULL|       RUDGE RAMOS| 9750900| SP|     7075| NULL|      NULL| NULL|      NULL|      NULL|    NULL|                NULL|             NULL|                     NULL|\n",
            "|       4628|         2|     46|                          2|   EMBROIDERY & GIFT|                 8|               19960802|                        1|                      NULL|NULL|                19950406|              4755501|                  NULL|           AVENIDA|             KENNEDY|   700|P2PULMANN QUIO P67L|    JD TRES MARIAS| 9725000| SP|     7075| NULL|      NULL| NULL|      NULL|      NULL|    NULL|                NULL|             NULL|                     NULL|\n",
            "|       4628|         1|     65|                          1|                NULL|                 2|               20051103|                        0|                      NULL|NULL|                19940516|              4930202|  7739099,4930201,5...|               RUA|  TIETE (VL VIVALDI)|   189|               NULL|       RUDGE RAMOS| 9615000| SP|     7075|   11|  43625402|   11|  43622689|        11|43625402|SHIRLEY_LUPOS@HOT...|             NULL|                     NULL|\n",
            "|      10804|         1|     71|                          1|              KOLVOX|                 8|               20170613|                        1|                      NULL|NULL|                19940530|              1412601|               1412603|           AVENIDA|          NORDESTINA|   917|           SALA  02|    VILA AMERICANA| 8021000| SP|     7107|   11|  20580186| NULL|      NULL|      NULL|    NULL|NCCONTABILIDADE@T...|             NULL|                     NULL|\n",
            "|      11448|         1|      0|                          1|              PROLAV|                 8|               20081231|                       71|                      NULL|NULL|                19940530|              4649408|                  NULL|               RUA|          PITAGUARAS|    05|               NULL|           POMPEIA| 5027100| SP|     7107| NULL|      NULL| NULL|      NULL|      NULL|    NULL|                NULL|             NULL|                     NULL|\n",
            "|      13566|         1|     58|                          1|                NULL|                 8|               20000914|                        1|                      NULL|NULL|                19940607|              4120400|               4299501|               RUA|       CAETANO NIGRO|   480|               NULL|       VL HARMONIA|14802450| SP|     6163| NULL|      NULL| NULL|      NULL|      NULL|    NULL|                NULL|             NULL|                     NULL|\n",
            "|      15324|         1|      1|                          1|MINI SACOLAO VILA...|                 8|               20080214|                       54|                      NULL|NULL|                19940610|              4729699|                  NULL|               RUA|      JAN DE CAPELLI|   238|                240|        PQ BRISTOL| 4193070| SP|     7107| NULL|      NULL| NULL|      NULL|      NULL|    NULL|                NULL|             NULL|                     NULL|\n",
            "|      17853|         1|     36|                          1|J Z B COMERCIO DE...|                 8|               20071003|                       54|                      NULL|NULL|                19940615|              2051700|               2052500|           ESTRADA|MUNIC.ALTAIR A GU...|    SN|              KM 04|        ZONA RURAL|15430000| SP|     6117| NULL|      NULL| NULL|      NULL|      NULL|    NULL|                NULL|             NULL|                     NULL|\n",
            "|      18103|         1|     89|                          1|                NULL|                 8|               20081231|                       71|                      NULL|NULL|                19940616|              4723700|                  NULL|           AVENIDA|    FREDERICO OZANAN|   946|               NULL|      VILA SAMPAIO|17205000| SP|     6607| NULL|      NULL| NULL|      NULL|      NULL|    NULL|                NULL|             NULL|                     NULL|\n",
            "|      22504|         1|      2|                          1|                NULL|                 8|               20151119|                        1|                      NULL|NULL|                19940627|              4761003|  4761001,4761002,4...|               RUA|          SANTA CRUZ|   595|               NULL|            CENTRO|13560680| SP|     7079|  016|   2706821| NULL|      NULL|        16| 2706821|                NULL|             NULL|                     NULL|\n",
            "|      23494|         1|     20|                          1|                LEGO|                 8|               20150209|                       73|                      NULL|NULL|                19940629|              1412601|               1412603|               RUA|  CEL EMIDIO PIEDADE|   154|               NULL|              PARI| 3018010| SP|     7107| NULL|      NULL| NULL|      NULL|      NULL|    NULL|                NULL|             NULL|                     NULL|\n",
            "|      23494|         2|      0|                          2|                NULL|                 8|               20150209|                       73|                      NULL|NULL|                20041201|              4642701|                  NULL|             PRACA|       JULIO PRESTES|29/137|           LOJA P19|    CAMPOS ELISEOS| 1218020| SP|     7107| NULL|      NULL| NULL|      NULL|      NULL|    NULL|                NULL|             NULL|                     NULL|\n",
            "|      24117|         1|      5|                          1|                NULL|                 8|               19850705|                        2|                      NULL|NULL|                19680725|              8888888|                  NULL|           AVENIDA|   ALMIRANTE BARROSO|    63|     SALA 308 PARTE|            CENTRO|20031003| RJ|     6001| NULL|      NULL| NULL|      NULL|      NULL|    NULL|                NULL|             NULL|                     NULL|\n",
            "|      24242|         1|     15|                          1|                NULL|                 8|               20081231|                       71|                      NULL|NULL|                19940630|              4722901|                  NULL|           AVENIDA|        BANDEIRANTES|  3928|               NULL| BRIGADEIRO TOBIAS|18108000| SP|     7145| NULL|      NULL| NULL|      NULL|      NULL|    NULL|                NULL|             NULL|                     NULL|\n",
            "|      24323|         1|     15|                          1|          POSTO XARA|                 8|               20081231|                       71|                      NULL|NULL|                19820114|              4731800|               4732600|           RODOVIA|              BR 050|   S/N|             KM 214|        ZONA RURAL|75795000| GO|     9295| NULL|      NULL| NULL|      NULL|      NULL|    NULL|                NULL|             NULL|                     NULL|\n",
            "+-----------+----------+-------+---------------------------+--------------------+------------------+-----------------------+-------------------------+--------------------------+----+------------------------+---------------------+----------------------+------------------+--------------------+------+-------------------+------------------+--------+---+---------+-----+----------+-----+----------+----------+--------+--------------------+-----------------+-------------------------+\n",
            "only showing top 20 rows\n",
            "\n"
          ]
        }
      ]
    },
    {
      "cell_type": "code",
      "source": [
        "# Definindo tudo que for valor nulo que seja \"Sem registro\"\n",
        "\n",
        "# \"Sem registro\" para dados em string\n",
        "df_estabelecimentos = df_estabelecimentos.na.fill(\"Sem registro\")\n",
        "\n",
        "# \"0\" para dados numéricos\n",
        "df_estabelecimentos = df_estabelecimentos.na.fill(0)"
      ],
      "metadata": {
        "id": "_ngBi76mkYbq"
      },
      "execution_count": null,
      "outputs": []
    },
    {
      "cell_type": "code",
      "source": [
        "# Verificando o tipo de cada coluna\n",
        "\n",
        "df_estabelecimentos.printSchema()"
      ],
      "metadata": {
        "colab": {
          "base_uri": "https://localhost:8080/"
        },
        "id": "PYRHj09CmZjG",
        "outputId": "107b93e9-7425-4a90-b910-d28192bb02f7"
      },
      "execution_count": null,
      "outputs": [
        {
          "output_type": "stream",
          "name": "stdout",
          "text": [
            "root\n",
            " |-- cnpj_basico: integer (nullable = true)\n",
            " |-- cnpj_ordem: integer (nullable = true)\n",
            " |-- cnpj_dv: integer (nullable = true)\n",
            " |-- identificador_matriz_filial: integer (nullable = true)\n",
            " |-- nome_fantasia: string (nullable = false)\n",
            " |-- situacao_cadastral: integer (nullable = true)\n",
            " |-- data_situacao_cadastral: integer (nullable = true)\n",
            " |-- motivo_situacao_cadastral: integer (nullable = true)\n",
            " |-- nome_da_cidade_no_exterior: string (nullable = false)\n",
            " |-- pais: integer (nullable = true)\n",
            " |-- data_de_inicio_atividade: integer (nullable = true)\n",
            " |-- cnae_fiscal_principal: integer (nullable = true)\n",
            " |-- cnae_fiscal_secundaria: string (nullable = false)\n",
            " |-- tipo_de_logradouro: string (nullable = false)\n",
            " |-- logradouro: string (nullable = false)\n",
            " |-- numero: string (nullable = false)\n",
            " |-- complemento: string (nullable = false)\n",
            " |-- bairro: string (nullable = false)\n",
            " |-- cep: integer (nullable = true)\n",
            " |-- uf: string (nullable = false)\n",
            " |-- municipio: integer (nullable = true)\n",
            " |-- ddd_1: string (nullable = false)\n",
            " |-- telefone_1: string (nullable = false)\n",
            " |-- ddd_2: string (nullable = false)\n",
            " |-- telefone_2: string (nullable = false)\n",
            " |-- ddd_do_fax: integer (nullable = true)\n",
            " |-- fax: string (nullable = false)\n",
            " |-- correio_eletronico: string (nullable = false)\n",
            " |-- situacao_especial: string (nullable = false)\n",
            " |-- data_da_situacao_especial: integer (nullable = true)\n",
            "\n"
          ]
        }
      ]
    },
    {
      "cell_type": "code",
      "source": [
        "# Alterando tipo de dados de determinadas coluna para o tipo date\n",
        "\n",
        "df_estabelecimentos = df_estabelecimentos.withColumn(\"data_situacao_cadastral\", f.to_date(f.col(\"data_situacao_cadastral\").cast(\"string\"), 'yyyyMMdd'))\n"
      ],
      "metadata": {
        "id": "Vry-9vZNm0fR"
      },
      "execution_count": null,
      "outputs": []
    },
    {
      "cell_type": "code",
      "source": [
        "# Verificando as alterações\n",
        "\n",
        "df_estabelecimentos.show()"
      ],
      "metadata": {
        "colab": {
          "base_uri": "https://localhost:8080/"
        },
        "id": "_bNOoxEaa6vq",
        "outputId": "3fcb097c-5422-42f5-daf5-eb33f61d90f5"
      },
      "execution_count": null,
      "outputs": [
        {
          "output_type": "stream",
          "name": "stdout",
          "text": [
            "+-----------+----------+-------+---------------------------+--------------------+------------------+-----------------------+-------------------------+--------------------------+----+------------------------+---------------------+----------------------+------------------+--------------------+------+-------------------+------------------+--------+---+---------+------------+------------+------------+------------+----------+------------+--------------------+-----------------+-------------------------+\n",
            "|cnpj_basico|cnpj_ordem|cnpj_dv|identificador_matriz_filial|       nome_fantasia|situacao_cadastral|data_situacao_cadastral|motivo_situacao_cadastral|nome_da_cidade_no_exterior|pais|data_de_inicio_atividade|cnae_fiscal_principal|cnae_fiscal_secundaria|tipo_de_logradouro|          logradouro|numero|        complemento|            bairro|     cep| uf|municipio|       ddd_1|  telefone_1|       ddd_2|  telefone_2|ddd_do_fax|         fax|  correio_eletronico|situacao_especial|data_da_situacao_especial|\n",
            "+-----------+----------+-------+---------------------------+--------------------+------------------+-----------------------+-------------------------+--------------------------+----+------------------------+---------------------+----------------------+------------------+--------------------+------+-------------------+------------------+--------+---+---------+------------+------------+------------+------------+----------+------------+--------------------+-----------------+-------------------------+\n",
            "|       1879|         1|     96|                          1|      PIRAMIDE M. C.|                 8|             2001-10-29|                        1|              Sem registro|   0|                19940509|              1412602|          Sem registro|               RUA|     JOSE FIGLIOLINI|   608|       Sem registro|         VILA NILO| 2278020| SP|     7107|Sem registro|Sem registro|Sem registro|Sem registro|         0|Sem registro|        Sem registro|     Sem registro|                        0|\n",
            "|       2818|         1|     43|                          1|        Sem registro|                 8|             2008-12-31|                       71|              Sem registro|   0|                19940512|              4671100|          Sem registro|               RUA|              BAQUIA|   416|       Sem registro|VL NOVA MANCHESTER| 3443000| SP|     7107|Sem registro|Sem registro|Sem registro|Sem registro|         0|Sem registro|        Sem registro|     Sem registro|                        0|\n",
            "|       3110|         1|      7|                          1|        Sem registro|                 8|             1997-12-31|                        1|              Sem registro|   0|                19940512|              4789007|          Sem registro|               RUA|     LEOCADIA CINTRA|   180|            CONJ 83|             MOOCA| 3112040| SP|     7107|Sem registro|Sem registro|Sem registro|Sem registro|         0|Sem registro|        Sem registro|     Sem registro|                        0|\n",
            "|       3733|         1|     80|                          1|        Sem registro|                 8|             2008-12-31|                       71|              Sem registro|   0|                19940513|              7490101|          Sem registro|               RUA|        AFONSO CELSO|  1102|             CASA 1|      VILA MARIANA| 4119061| SP|     7107|Sem registro|Sem registro|Sem registro|Sem registro|         0|Sem registro|        Sem registro|     Sem registro|                        0|\n",
            "|       4628|         3|     27|                          2|   EMBROIDERY & GIFT|                 8|             1998-04-29|                        1|              Sem registro|   0|                19950509|              4755501|          Sem registro|               RUA|DOUTOR GABRIEL NI...|   177|       Sem registro|       RUDGE RAMOS| 9632040| SP|     7075|Sem registro|Sem registro|Sem registro|Sem registro|         0|Sem registro|        Sem registro|     Sem registro|                        0|\n",
            "|       4628|         4|      8|                          2|        Sem registro|                 8|             2004-07-19|                        1|              Sem registro|   0|                19990715|              4755502|          Sem registro|           AVENIDA|   SENADOR VERGUEIRO|  4556|       Sem registro|       RUDGE RAMOS| 9750900| SP|     7075|Sem registro|Sem registro|Sem registro|Sem registro|         0|Sem registro|        Sem registro|     Sem registro|                        0|\n",
            "|       4628|         2|     46|                          2|   EMBROIDERY & GIFT|                 8|             1996-08-02|                        1|              Sem registro|   0|                19950406|              4755501|          Sem registro|           AVENIDA|             KENNEDY|   700|P2PULMANN QUIO P67L|    JD TRES MARIAS| 9725000| SP|     7075|Sem registro|Sem registro|Sem registro|Sem registro|         0|Sem registro|        Sem registro|     Sem registro|                        0|\n",
            "|       4628|         1|     65|                          1|        Sem registro|                 2|             2005-11-03|                        0|              Sem registro|   0|                19940516|              4930202|  7739099,4930201,5...|               RUA|  TIETE (VL VIVALDI)|   189|       Sem registro|       RUDGE RAMOS| 9615000| SP|     7075|          11|    43625402|          11|    43622689|        11|    43625402|SHIRLEY_LUPOS@HOT...|     Sem registro|                        0|\n",
            "|      10804|         1|     71|                          1|              KOLVOX|                 8|             2017-06-13|                        1|              Sem registro|   0|                19940530|              1412601|               1412603|           AVENIDA|          NORDESTINA|   917|           SALA  02|    VILA AMERICANA| 8021000| SP|     7107|          11|    20580186|Sem registro|Sem registro|         0|Sem registro|NCCONTABILIDADE@T...|     Sem registro|                        0|\n",
            "|      11448|         1|      0|                          1|              PROLAV|                 8|             2008-12-31|                       71|              Sem registro|   0|                19940530|              4649408|          Sem registro|               RUA|          PITAGUARAS|    05|       Sem registro|           POMPEIA| 5027100| SP|     7107|Sem registro|Sem registro|Sem registro|Sem registro|         0|Sem registro|        Sem registro|     Sem registro|                        0|\n",
            "|      13566|         1|     58|                          1|        Sem registro|                 8|             2000-09-14|                        1|              Sem registro|   0|                19940607|              4120400|               4299501|               RUA|       CAETANO NIGRO|   480|       Sem registro|       VL HARMONIA|14802450| SP|     6163|Sem registro|Sem registro|Sem registro|Sem registro|         0|Sem registro|        Sem registro|     Sem registro|                        0|\n",
            "|      15324|         1|      1|                          1|MINI SACOLAO VILA...|                 8|             2008-02-14|                       54|              Sem registro|   0|                19940610|              4729699|          Sem registro|               RUA|      JAN DE CAPELLI|   238|                240|        PQ BRISTOL| 4193070| SP|     7107|Sem registro|Sem registro|Sem registro|Sem registro|         0|Sem registro|        Sem registro|     Sem registro|                        0|\n",
            "|      17853|         1|     36|                          1|J Z B COMERCIO DE...|                 8|             2007-10-03|                       54|              Sem registro|   0|                19940615|              2051700|               2052500|           ESTRADA|MUNIC.ALTAIR A GU...|    SN|              KM 04|        ZONA RURAL|15430000| SP|     6117|Sem registro|Sem registro|Sem registro|Sem registro|         0|Sem registro|        Sem registro|     Sem registro|                        0|\n",
            "|      18103|         1|     89|                          1|        Sem registro|                 8|             2008-12-31|                       71|              Sem registro|   0|                19940616|              4723700|          Sem registro|           AVENIDA|    FREDERICO OZANAN|   946|       Sem registro|      VILA SAMPAIO|17205000| SP|     6607|Sem registro|Sem registro|Sem registro|Sem registro|         0|Sem registro|        Sem registro|     Sem registro|                        0|\n",
            "|      22504|         1|      2|                          1|        Sem registro|                 8|             2015-11-19|                        1|              Sem registro|   0|                19940627|              4761003|  4761001,4761002,4...|               RUA|          SANTA CRUZ|   595|       Sem registro|            CENTRO|13560680| SP|     7079|         016|     2706821|Sem registro|Sem registro|        16|     2706821|        Sem registro|     Sem registro|                        0|\n",
            "|      23494|         1|     20|                          1|                LEGO|                 8|             2015-02-09|                       73|              Sem registro|   0|                19940629|              1412601|               1412603|               RUA|  CEL EMIDIO PIEDADE|   154|       Sem registro|              PARI| 3018010| SP|     7107|Sem registro|Sem registro|Sem registro|Sem registro|         0|Sem registro|        Sem registro|     Sem registro|                        0|\n",
            "|      23494|         2|      0|                          2|        Sem registro|                 8|             2015-02-09|                       73|              Sem registro|   0|                20041201|              4642701|          Sem registro|             PRACA|       JULIO PRESTES|29/137|           LOJA P19|    CAMPOS ELISEOS| 1218020| SP|     7107|Sem registro|Sem registro|Sem registro|Sem registro|         0|Sem registro|        Sem registro|     Sem registro|                        0|\n",
            "|      24117|         1|      5|                          1|        Sem registro|                 8|             1985-07-05|                        2|              Sem registro|   0|                19680725|              8888888|          Sem registro|           AVENIDA|   ALMIRANTE BARROSO|    63|     SALA 308 PARTE|            CENTRO|20031003| RJ|     6001|Sem registro|Sem registro|Sem registro|Sem registro|         0|Sem registro|        Sem registro|     Sem registro|                        0|\n",
            "|      24242|         1|     15|                          1|        Sem registro|                 8|             2008-12-31|                       71|              Sem registro|   0|                19940630|              4722901|          Sem registro|           AVENIDA|        BANDEIRANTES|  3928|       Sem registro| BRIGADEIRO TOBIAS|18108000| SP|     7145|Sem registro|Sem registro|Sem registro|Sem registro|         0|Sem registro|        Sem registro|     Sem registro|                        0|\n",
            "|      24323|         1|     15|                          1|          POSTO XARA|                 8|             2008-12-31|                       71|              Sem registro|   0|                19820114|              4731800|               4732600|           RODOVIA|              BR 050|   S/N|             KM 214|        ZONA RURAL|75795000| GO|     9295|Sem registro|Sem registro|Sem registro|Sem registro|         0|Sem registro|        Sem registro|     Sem registro|                        0|\n",
            "+-----------+----------+-------+---------------------------+--------------------+------------------+-----------------------+-------------------------+--------------------------+----+------------------------+---------------------+----------------------+------------------+--------------------+------+-------------------+------------------+--------+---+---------+------------+------------+------------+------------+----------+------------+--------------------+-----------------+-------------------------+\n",
            "only showing top 20 rows\n",
            "\n"
          ]
        }
      ]
    },
    {
      "cell_type": "code",
      "source": [
        "# Alterando nome das colunas\n",
        "\n",
        "df_estabelecimentos = df_estabelecimentos.withColumnsRenamed({\n",
        "   \"uf\":\"Estado\",\n",
        "   \"municipio\":\"id_municipio\"\n",
        "})"
      ],
      "metadata": {
        "id": "h72C5Cbvlpi3"
      },
      "execution_count": null,
      "outputs": []
    },
    {
      "cell_type": "code",
      "source": [
        "df_estabelecimentos.show()"
      ],
      "metadata": {
        "colab": {
          "base_uri": "https://localhost:8080/"
        },
        "id": "ntyoFtFumgHh",
        "outputId": "386c2bca-d95c-4e8e-b164-a6aedc20e1e5"
      },
      "execution_count": null,
      "outputs": [
        {
          "output_type": "stream",
          "name": "stdout",
          "text": [
            "+-----------+----------+-------+---------------------------+--------------------+------------------+-----------------------+-------------------------+--------------------------+----+------------------------+---------------------+----------------------+------------------+--------------------+------+-------------------+------------------+--------+------+------------+------------+------------+------------+------------+----------+------------+--------------------+-----------------+-------------------------+\n",
            "|cnpj_basico|cnpj_ordem|cnpj_dv|identificador_matriz_filial|       nome_fantasia|situacao_cadastral|data_situacao_cadastral|motivo_situacao_cadastral|nome_da_cidade_no_exterior|pais|data_de_inicio_atividade|cnae_fiscal_principal|cnae_fiscal_secundaria|tipo_de_logradouro|          logradouro|numero|        complemento|            bairro|     cep|Estado|id_municipio|       ddd_1|  telefone_1|       ddd_2|  telefone_2|ddd_do_fax|         fax|  correio_eletronico|situacao_especial|data_da_situacao_especial|\n",
            "+-----------+----------+-------+---------------------------+--------------------+------------------+-----------------------+-------------------------+--------------------------+----+------------------------+---------------------+----------------------+------------------+--------------------+------+-------------------+------------------+--------+------+------------+------------+------------+------------+------------+----------+------------+--------------------+-----------------+-------------------------+\n",
            "|       1879|         1|     96|                          1|      PIRAMIDE M. C.|                 8|             2001-10-29|                        1|              Sem registro|   0|                19940509|              1412602|          Sem registro|               RUA|     JOSE FIGLIOLINI|   608|       Sem registro|         VILA NILO| 2278020|    SP|        7107|Sem registro|Sem registro|Sem registro|Sem registro|         0|Sem registro|        Sem registro|     Sem registro|                        0|\n",
            "|       2818|         1|     43|                          1|        Sem registro|                 8|             2008-12-31|                       71|              Sem registro|   0|                19940512|              4671100|          Sem registro|               RUA|              BAQUIA|   416|       Sem registro|VL NOVA MANCHESTER| 3443000|    SP|        7107|Sem registro|Sem registro|Sem registro|Sem registro|         0|Sem registro|        Sem registro|     Sem registro|                        0|\n",
            "|       3110|         1|      7|                          1|        Sem registro|                 8|             1997-12-31|                        1|              Sem registro|   0|                19940512|              4789007|          Sem registro|               RUA|     LEOCADIA CINTRA|   180|            CONJ 83|             MOOCA| 3112040|    SP|        7107|Sem registro|Sem registro|Sem registro|Sem registro|         0|Sem registro|        Sem registro|     Sem registro|                        0|\n",
            "|       3733|         1|     80|                          1|        Sem registro|                 8|             2008-12-31|                       71|              Sem registro|   0|                19940513|              7490101|          Sem registro|               RUA|        AFONSO CELSO|  1102|             CASA 1|      VILA MARIANA| 4119061|    SP|        7107|Sem registro|Sem registro|Sem registro|Sem registro|         0|Sem registro|        Sem registro|     Sem registro|                        0|\n",
            "|       4628|         3|     27|                          2|   EMBROIDERY & GIFT|                 8|             1998-04-29|                        1|              Sem registro|   0|                19950509|              4755501|          Sem registro|               RUA|DOUTOR GABRIEL NI...|   177|       Sem registro|       RUDGE RAMOS| 9632040|    SP|        7075|Sem registro|Sem registro|Sem registro|Sem registro|         0|Sem registro|        Sem registro|     Sem registro|                        0|\n",
            "|       4628|         4|      8|                          2|        Sem registro|                 8|             2004-07-19|                        1|              Sem registro|   0|                19990715|              4755502|          Sem registro|           AVENIDA|   SENADOR VERGUEIRO|  4556|       Sem registro|       RUDGE RAMOS| 9750900|    SP|        7075|Sem registro|Sem registro|Sem registro|Sem registro|         0|Sem registro|        Sem registro|     Sem registro|                        0|\n",
            "|       4628|         2|     46|                          2|   EMBROIDERY & GIFT|                 8|             1996-08-02|                        1|              Sem registro|   0|                19950406|              4755501|          Sem registro|           AVENIDA|             KENNEDY|   700|P2PULMANN QUIO P67L|    JD TRES MARIAS| 9725000|    SP|        7075|Sem registro|Sem registro|Sem registro|Sem registro|         0|Sem registro|        Sem registro|     Sem registro|                        0|\n",
            "|       4628|         1|     65|                          1|        Sem registro|                 2|             2005-11-03|                        0|              Sem registro|   0|                19940516|              4930202|  7739099,4930201,5...|               RUA|  TIETE (VL VIVALDI)|   189|       Sem registro|       RUDGE RAMOS| 9615000|    SP|        7075|          11|    43625402|          11|    43622689|        11|    43625402|SHIRLEY_LUPOS@HOT...|     Sem registro|                        0|\n",
            "|      10804|         1|     71|                          1|              KOLVOX|                 8|             2017-06-13|                        1|              Sem registro|   0|                19940530|              1412601|               1412603|           AVENIDA|          NORDESTINA|   917|           SALA  02|    VILA AMERICANA| 8021000|    SP|        7107|          11|    20580186|Sem registro|Sem registro|         0|Sem registro|NCCONTABILIDADE@T...|     Sem registro|                        0|\n",
            "|      11448|         1|      0|                          1|              PROLAV|                 8|             2008-12-31|                       71|              Sem registro|   0|                19940530|              4649408|          Sem registro|               RUA|          PITAGUARAS|    05|       Sem registro|           POMPEIA| 5027100|    SP|        7107|Sem registro|Sem registro|Sem registro|Sem registro|         0|Sem registro|        Sem registro|     Sem registro|                        0|\n",
            "|      13566|         1|     58|                          1|        Sem registro|                 8|             2000-09-14|                        1|              Sem registro|   0|                19940607|              4120400|               4299501|               RUA|       CAETANO NIGRO|   480|       Sem registro|       VL HARMONIA|14802450|    SP|        6163|Sem registro|Sem registro|Sem registro|Sem registro|         0|Sem registro|        Sem registro|     Sem registro|                        0|\n",
            "|      15324|         1|      1|                          1|MINI SACOLAO VILA...|                 8|             2008-02-14|                       54|              Sem registro|   0|                19940610|              4729699|          Sem registro|               RUA|      JAN DE CAPELLI|   238|                240|        PQ BRISTOL| 4193070|    SP|        7107|Sem registro|Sem registro|Sem registro|Sem registro|         0|Sem registro|        Sem registro|     Sem registro|                        0|\n",
            "|      17853|         1|     36|                          1|J Z B COMERCIO DE...|                 8|             2007-10-03|                       54|              Sem registro|   0|                19940615|              2051700|               2052500|           ESTRADA|MUNIC.ALTAIR A GU...|    SN|              KM 04|        ZONA RURAL|15430000|    SP|        6117|Sem registro|Sem registro|Sem registro|Sem registro|         0|Sem registro|        Sem registro|     Sem registro|                        0|\n",
            "|      18103|         1|     89|                          1|        Sem registro|                 8|             2008-12-31|                       71|              Sem registro|   0|                19940616|              4723700|          Sem registro|           AVENIDA|    FREDERICO OZANAN|   946|       Sem registro|      VILA SAMPAIO|17205000|    SP|        6607|Sem registro|Sem registro|Sem registro|Sem registro|         0|Sem registro|        Sem registro|     Sem registro|                        0|\n",
            "|      22504|         1|      2|                          1|        Sem registro|                 8|             2015-11-19|                        1|              Sem registro|   0|                19940627|              4761003|  4761001,4761002,4...|               RUA|          SANTA CRUZ|   595|       Sem registro|            CENTRO|13560680|    SP|        7079|         016|     2706821|Sem registro|Sem registro|        16|     2706821|        Sem registro|     Sem registro|                        0|\n",
            "|      23494|         1|     20|                          1|                LEGO|                 8|             2015-02-09|                       73|              Sem registro|   0|                19940629|              1412601|               1412603|               RUA|  CEL EMIDIO PIEDADE|   154|       Sem registro|              PARI| 3018010|    SP|        7107|Sem registro|Sem registro|Sem registro|Sem registro|         0|Sem registro|        Sem registro|     Sem registro|                        0|\n",
            "|      23494|         2|      0|                          2|        Sem registro|                 8|             2015-02-09|                       73|              Sem registro|   0|                20041201|              4642701|          Sem registro|             PRACA|       JULIO PRESTES|29/137|           LOJA P19|    CAMPOS ELISEOS| 1218020|    SP|        7107|Sem registro|Sem registro|Sem registro|Sem registro|         0|Sem registro|        Sem registro|     Sem registro|                        0|\n",
            "|      24117|         1|      5|                          1|        Sem registro|                 8|             1985-07-05|                        2|              Sem registro|   0|                19680725|              8888888|          Sem registro|           AVENIDA|   ALMIRANTE BARROSO|    63|     SALA 308 PARTE|            CENTRO|20031003|    RJ|        6001|Sem registro|Sem registro|Sem registro|Sem registro|         0|Sem registro|        Sem registro|     Sem registro|                        0|\n",
            "|      24242|         1|     15|                          1|        Sem registro|                 8|             2008-12-31|                       71|              Sem registro|   0|                19940630|              4722901|          Sem registro|           AVENIDA|        BANDEIRANTES|  3928|       Sem registro| BRIGADEIRO TOBIAS|18108000|    SP|        7145|Sem registro|Sem registro|Sem registro|Sem registro|         0|Sem registro|        Sem registro|     Sem registro|                        0|\n",
            "|      24323|         1|     15|                          1|          POSTO XARA|                 8|             2008-12-31|                       71|              Sem registro|   0|                19820114|              4731800|               4732600|           RODOVIA|              BR 050|   S/N|             KM 214|        ZONA RURAL|75795000|    GO|        9295|Sem registro|Sem registro|Sem registro|Sem registro|         0|Sem registro|        Sem registro|     Sem registro|                        0|\n",
            "+-----------+----------+-------+---------------------------+--------------------+------------------+-----------------------+-------------------------+--------------------------+----+------------------------+---------------------+----------------------+------------------+--------------------+------+-------------------+------------------+--------+------+------------+------------+------------+------------+------------+----------+------------+--------------------+-----------------+-------------------------+\n",
            "only showing top 20 rows\n",
            "\n"
          ]
        }
      ]
    },
    {
      "cell_type": "code",
      "source": [
        "# excluindo colunas que não serão utilizados\n",
        "\n",
        "df_estabelecimentos = df_estabelecimentos.drop(\"correio_eletronico\",\"ddd_1\", \"telefone_1\", \"ddd_2\",\n",
        "                         \"telefone_2\", \"ddd_do_fax\", \"fax\", \"situacao_especial\", \"data_da_situacao_especial\")\n"
      ],
      "metadata": {
        "id": "wQN4J8Sm4EKU"
      },
      "execution_count": null,
      "outputs": []
    },
    {
      "cell_type": "code",
      "source": [
        "# Visualizando as alterações\n",
        "\n",
        "df_estabelecimentos.show()"
      ],
      "metadata": {
        "colab": {
          "base_uri": "https://localhost:8080/"
        },
        "id": "ACn132hLL7bO",
        "outputId": "3cd3f326-b275-4a2b-95c2-e4816db56ca4"
      },
      "execution_count": null,
      "outputs": [
        {
          "output_type": "stream",
          "name": "stdout",
          "text": [
            "+-----------+----------+-------+---------------------------+--------------------+------------------+-----------------------+-------------------------+--------------------------+----+------------------------+---------------------+----------------------+------------------+--------------------+------+-------------------+------------------+--------+------+------------+\n",
            "|cnpj_basico|cnpj_ordem|cnpj_dv|identificador_matriz_filial|       nome_fantasia|situacao_cadastral|data_situacao_cadastral|motivo_situacao_cadastral|nome_da_cidade_no_exterior|pais|data_de_inicio_atividade|cnae_fiscal_principal|cnae_fiscal_secundaria|tipo_de_logradouro|          logradouro|numero|        complemento|            bairro|     cep|Estado|id_municipio|\n",
            "+-----------+----------+-------+---------------------------+--------------------+------------------+-----------------------+-------------------------+--------------------------+----+------------------------+---------------------+----------------------+------------------+--------------------+------+-------------------+------------------+--------+------+------------+\n",
            "|       1879|         1|     96|                          1|      PIRAMIDE M. C.|                 8|             2001-10-29|                        1|              Sem registro|   0|                19940509|              1412602|          Sem registro|               RUA|     JOSE FIGLIOLINI|   608|       Sem registro|         VILA NILO| 2278020|    SP|        7107|\n",
            "|       2818|         1|     43|                          1|        Sem registro|                 8|             2008-12-31|                       71|              Sem registro|   0|                19940512|              4671100|          Sem registro|               RUA|              BAQUIA|   416|       Sem registro|VL NOVA MANCHESTER| 3443000|    SP|        7107|\n",
            "|       3110|         1|      7|                          1|        Sem registro|                 8|             1997-12-31|                        1|              Sem registro|   0|                19940512|              4789007|          Sem registro|               RUA|     LEOCADIA CINTRA|   180|            CONJ 83|             MOOCA| 3112040|    SP|        7107|\n",
            "|       3733|         1|     80|                          1|        Sem registro|                 8|             2008-12-31|                       71|              Sem registro|   0|                19940513|              7490101|          Sem registro|               RUA|        AFONSO CELSO|  1102|             CASA 1|      VILA MARIANA| 4119061|    SP|        7107|\n",
            "|       4628|         3|     27|                          2|   EMBROIDERY & GIFT|                 8|             1998-04-29|                        1|              Sem registro|   0|                19950509|              4755501|          Sem registro|               RUA|DOUTOR GABRIEL NI...|   177|       Sem registro|       RUDGE RAMOS| 9632040|    SP|        7075|\n",
            "|       4628|         4|      8|                          2|        Sem registro|                 8|             2004-07-19|                        1|              Sem registro|   0|                19990715|              4755502|          Sem registro|           AVENIDA|   SENADOR VERGUEIRO|  4556|       Sem registro|       RUDGE RAMOS| 9750900|    SP|        7075|\n",
            "|       4628|         2|     46|                          2|   EMBROIDERY & GIFT|                 8|             1996-08-02|                        1|              Sem registro|   0|                19950406|              4755501|          Sem registro|           AVENIDA|             KENNEDY|   700|P2PULMANN QUIO P67L|    JD TRES MARIAS| 9725000|    SP|        7075|\n",
            "|       4628|         1|     65|                          1|        Sem registro|                 2|             2005-11-03|                        0|              Sem registro|   0|                19940516|              4930202|  7739099,4930201,5...|               RUA|  TIETE (VL VIVALDI)|   189|       Sem registro|       RUDGE RAMOS| 9615000|    SP|        7075|\n",
            "|      10804|         1|     71|                          1|              KOLVOX|                 8|             2017-06-13|                        1|              Sem registro|   0|                19940530|              1412601|               1412603|           AVENIDA|          NORDESTINA|   917|           SALA  02|    VILA AMERICANA| 8021000|    SP|        7107|\n",
            "|      11448|         1|      0|                          1|              PROLAV|                 8|             2008-12-31|                       71|              Sem registro|   0|                19940530|              4649408|          Sem registro|               RUA|          PITAGUARAS|    05|       Sem registro|           POMPEIA| 5027100|    SP|        7107|\n",
            "|      13566|         1|     58|                          1|        Sem registro|                 8|             2000-09-14|                        1|              Sem registro|   0|                19940607|              4120400|               4299501|               RUA|       CAETANO NIGRO|   480|       Sem registro|       VL HARMONIA|14802450|    SP|        6163|\n",
            "|      15324|         1|      1|                          1|MINI SACOLAO VILA...|                 8|             2008-02-14|                       54|              Sem registro|   0|                19940610|              4729699|          Sem registro|               RUA|      JAN DE CAPELLI|   238|                240|        PQ BRISTOL| 4193070|    SP|        7107|\n",
            "|      17853|         1|     36|                          1|J Z B COMERCIO DE...|                 8|             2007-10-03|                       54|              Sem registro|   0|                19940615|              2051700|               2052500|           ESTRADA|MUNIC.ALTAIR A GU...|    SN|              KM 04|        ZONA RURAL|15430000|    SP|        6117|\n",
            "|      18103|         1|     89|                          1|        Sem registro|                 8|             2008-12-31|                       71|              Sem registro|   0|                19940616|              4723700|          Sem registro|           AVENIDA|    FREDERICO OZANAN|   946|       Sem registro|      VILA SAMPAIO|17205000|    SP|        6607|\n",
            "|      22504|         1|      2|                          1|        Sem registro|                 8|             2015-11-19|                        1|              Sem registro|   0|                19940627|              4761003|  4761001,4761002,4...|               RUA|          SANTA CRUZ|   595|       Sem registro|            CENTRO|13560680|    SP|        7079|\n",
            "|      23494|         1|     20|                          1|                LEGO|                 8|             2015-02-09|                       73|              Sem registro|   0|                19940629|              1412601|               1412603|               RUA|  CEL EMIDIO PIEDADE|   154|       Sem registro|              PARI| 3018010|    SP|        7107|\n",
            "|      23494|         2|      0|                          2|        Sem registro|                 8|             2015-02-09|                       73|              Sem registro|   0|                20041201|              4642701|          Sem registro|             PRACA|       JULIO PRESTES|29/137|           LOJA P19|    CAMPOS ELISEOS| 1218020|    SP|        7107|\n",
            "|      24117|         1|      5|                          1|        Sem registro|                 8|             1985-07-05|                        2|              Sem registro|   0|                19680725|              8888888|          Sem registro|           AVENIDA|   ALMIRANTE BARROSO|    63|     SALA 308 PARTE|            CENTRO|20031003|    RJ|        6001|\n",
            "|      24242|         1|     15|                          1|        Sem registro|                 8|             2008-12-31|                       71|              Sem registro|   0|                19940630|              4722901|          Sem registro|           AVENIDA|        BANDEIRANTES|  3928|       Sem registro| BRIGADEIRO TOBIAS|18108000|    SP|        7145|\n",
            "|      24323|         1|     15|                          1|          POSTO XARA|                 8|             2008-12-31|                       71|              Sem registro|   0|                19820114|              4731800|               4732600|           RODOVIA|              BR 050|   S/N|             KM 214|        ZONA RURAL|75795000|    GO|        9295|\n",
            "+-----------+----------+-------+---------------------------+--------------------+------------------+-----------------------+-------------------------+--------------------------+----+------------------------+---------------------+----------------------+------------------+--------------------+------+-------------------+------------------+--------+------+------------+\n",
            "only showing top 20 rows\n",
            "\n"
          ]
        }
      ]
    },
    {
      "cell_type": "code",
      "source": [
        "# Visualizando valores distintos da coluna Estado, para alteração no proximo bloco de codigo\n",
        "\n",
        "df_estabelecimentos.select(\"Estado\").distinct().show()"
      ],
      "metadata": {
        "colab": {
          "base_uri": "https://localhost:8080/"
        },
        "id": "dsvIWpp5RHgm",
        "outputId": "dcad0ae4-3a13-4a39-9c58-b48b7dfa748a"
      },
      "execution_count": null,
      "outputs": [
        {
          "output_type": "stream",
          "name": "stdout",
          "text": [
            "+------+\n",
            "|Estado|\n",
            "+------+\n",
            "|    SC|\n",
            "|    RO|\n",
            "|    PI|\n",
            "|    AM|\n",
            "|    EX|\n",
            "|    RR|\n",
            "|    GO|\n",
            "|    TO|\n",
            "|    MT|\n",
            "|    SP|\n",
            "|    ES|\n",
            "|    PB|\n",
            "|    RS|\n",
            "|    MS|\n",
            "|    AL|\n",
            "|    MG|\n",
            "|    PA|\n",
            "|    BA|\n",
            "|    SE|\n",
            "|    PE|\n",
            "+------+\n",
            "only showing top 20 rows\n",
            "\n"
          ]
        }
      ]
    },
    {
      "cell_type": "code",
      "source": [
        "# Foi identificado um valor \"EX\" na coluna estado, que não corresponde a nenhum estado..\n",
        "# Sendo assim selecionaremos os valores EX para visualizarmos esses dados e identificarmos\n",
        "# do que se trata.\n",
        "\n",
        "df_estabelecimentos.where(\"Estado like '%EX%'\").show(truncate=False) # Comando \"where\" sql para pesquisas com condições"
      ],
      "metadata": {
        "colab": {
          "base_uri": "https://localhost:8080/"
        },
        "id": "_ykG3m5zXSYC",
        "outputId": "e4c933d9-ea8f-4f4b-b752-0c354072aed7"
      },
      "execution_count": null,
      "outputs": [
        {
          "output_type": "stream",
          "name": "stdout",
          "text": [
            "+-----------+----------+-------+---------------------------+-------------+------------------+-----------------------+-------------------------+--------------------------+----+------------------------+---------------------+----------------------+------------------+---------------------------------+------+------------+------------------+---+------+------------+\n",
            "|cnpj_basico|cnpj_ordem|cnpj_dv|identificador_matriz_filial|nome_fantasia|situacao_cadastral|data_situacao_cadastral|motivo_situacao_cadastral|nome_da_cidade_no_exterior|pais|data_de_inicio_atividade|cnae_fiscal_principal|cnae_fiscal_secundaria|tipo_de_logradouro|logradouro                       |numero|complemento |bairro            |cep|Estado|id_municipio|\n",
            "+-----------+----------+-------+---------------------------+-------------+------------------+-----------------------+-------------------------+--------------------------+----+------------------------+---------------------+----------------------+------------------+---------------------------------+------+------------+------------------+---+------+------------+\n",
            "|5447335    |1         |76     |1                          |Sem registro |2                 |2002-12-20             |0                        |Sem registro              |351 |20021220                |6470101              |Sem registro          |Sem registro      |QUEEN'S ROAD CENTRAL             |000015|39: ANDAR   |EDINBURGH TOWER   |0  |EX    |9707        |\n",
            "|5450656    |1         |20     |1                          |Sem registro |2                 |2002-12-17             |0                        |Sem registro              |23  |20021217                |9900800              |Sem registro          |Sem registro      |BOCKENHEIMER LANDSTRASSE         |98-100|Sem registro|FRANKFURT AM MAIN |0  |EX    |9707        |\n",
            "|5473978    |1         |94     |1                          |Sem registro |3                 |2005-03-02             |18                       |Sem registro              |845 |20030121                |6462000              |Sem registro          |Sem registro      |AV 18 DE JULHO                   |1516  |9 ANDAR     |CENTRO            |0  |EX    |9707        |\n",
            "|5479857    |1         |50     |1                          |Sem registro |3                 |2012-07-06             |18                       |Sem registro              |137 |20030128                |6470101              |Sem registro          |Sem registro      |PO BOX 1787                      |S/N   |Sem registro|GEORGETOWN        |0  |EX    |9707        |\n",
            "|5527557    |1         |7      |1                          |Sem registro |2                 |2003-10-18             |0                        |Sem registro              |580 |20021120                |6462000              |Sem registro          |Sem registro      |CALLE  AVE SAMUEL LEWIS          |54    |Sem registro|PANAMA            |0  |EX    |9707        |\n",
            "|5530847    |1         |0      |1                          |Sem registro |2                 |2003-10-18             |0                        |Sem registro              |249 |20021220                |6462000              |Sem registro          |Sem registro      |LIGHTWAVE DRIVE                  |15550 |Sem registro|CLEARWATER        |0  |EX    |9707        |\n",
            "|5709186    |1         |76     |1                          |Sem registro |2                 |2003-09-15             |0                        |Sem registro              |249 |20030625                |6462000              |Sem registro          |Sem registro      |201 HIGH RIDGE ROAD, STANFORD    |S/N   |Sem registro|Sem registro      |0  |EX    |9707        |\n",
            "|5709778    |1         |98     |1                          |Sem registro |2                 |2003-09-15             |0                        |Sem registro              |77  |20030625                |6462000              |Sem registro          |Sem registro      |& BANK LANE, PO BOX 7474         |S/N   |Sem registro|Sem registro      |0  |EX    |9707        |\n",
            "|5709841    |1         |96     |1                          |Sem registro |2                 |2003-09-15             |0                        |Sem registro              |628 |20030625                |6462000              |Sem registro          |Sem registro      |SHIRE WS140EE - INGLATERRA       |S/N   |Sem registro|Sem registro      |0  |EX    |9707        |\n",
            "|5712297    |1         |31     |1                          |Sem registro |2                 |2003-09-15             |0                        |Sem registro              |249 |20030625                |6462000              |Sem registro          |Sem registro      |NAO INFORMADO                    |S/N   |Sem registro|Sem registro      |0  |EX    |9707        |\n",
            "|5713203    |1         |49     |1                          |Sem registro |2                 |2003-09-15             |0                        |Sem registro              |538 |20030625                |6462000              |Sem registro          |Sem registro      |N-1327                           |S/N   |Sem registro|Sem registro      |0  |EX    |9707        |\n",
            "|5713608    |1         |87     |1                          |Sem registro |2                 |2003-09-15             |0                        |Sem registro              |23  |20030625                |6462000              |Sem registro          |Sem registro      |POSTFACH 2 - D-72349 - GEISLINGEN|S/N   |Sem registro|Sem registro      |0  |EX    |9707        |\n",
            "|5713909    |1         |0      |1                          |Sem registro |2                 |2003-09-15             |0                        |Sem registro              |77  |20030625                |6462000              |Sem registro          |Sem registro      |NAO INFORMADO                    |S/N   |Sem registro|Sem registro      |0  |EX    |9707        |\n",
            "|5714915    |1         |82     |1                          |Sem registro |2                 |2003-09-15             |0                        |Sem registro              |445 |20030625                |6462000              |Sem registro          |Sem registro      |35                               |S/N   |Sem registro|Sem registro      |0  |EX    |9707        |\n",
            "|5719644    |1         |58     |1                          |Sem registro |2                 |2003-09-15             |0                        |Sem registro              |275 |20030625                |6462000              |Sem registro          |Sem registro      |NAO INFORMADO                    |S/N   |Sem registro|Sem registro      |0  |EX    |9707        |\n",
            "|5720824    |1         |50     |1                          |Sem registro |2                 |2003-09-15             |0                        |Sem registro              |767 |20030625                |6462000              |Sem registro          |Sem registro      |NAO INFORMADO                    |S/N   |Sem registro|Sem registro      |0  |EX    |9707        |\n",
            "|5720827    |1         |93     |1                          |Sem registro |2                 |2003-09-15             |0                        |Sem registro              |245 |20030625                |6462000              |Sem registro          |Sem registro      |APARTADO 1, PLAZA DE CATALUNYA 1 |S/N   |Sem registro|Sem registro      |0  |EX    |9707        |\n",
            "|5728421    |1         |57     |1                          |MELORA       |2                 |2003-06-10             |0                        |Sem registro              |607 |20030610                |2063100              |Sem registro          |Sem registro      |AVENIDA ESTADOS UNIDOS DA AMERICA|97    |12 ESQUERDO |FR.S.JOAO DE BRITO|0  |EX    |9707        |\n",
            "|5732779    |1         |53     |1                          |Sem registro |2                 |2003-09-15             |0                        |Sem registro              |628 |20030630                |6462000              |Sem registro          |Sem registro      |KING S WORTHY_WINCHESTER         |S/N   |Sem registro|Sem registro      |0  |EX    |9707        |\n",
            "|5837221    |1         |32     |1                          |Sem registro |2                 |2003-09-01             |0                        |Sem registro              |0   |20030901                |6630400              |Sem registro          |Sem registro      |546 FIFTH AVENUE                 |S/N   |2ND FLOOR   |NEW YORK          |0  |EX    |9707        |\n",
            "+-----------+----------+-------+---------------------------+-------------+------------------+-----------------------+-------------------------+--------------------------+----+------------------------+---------------------+----------------------+------------------+---------------------------------+------+------------+------------------+---+------+------------+\n",
            "only showing top 20 rows\n",
            "\n"
          ]
        }
      ]
    },
    {
      "cell_type": "code",
      "source": [
        "# Foi identificado que sigla EX tem o signficado de Exterior.. ou seja\n",
        "# são empresas que provavelmente são de fora do pais.. sendo assim iremos excluir\n",
        "# esses dados da nossa lista pois a nossa lista é estabelecimentos apenas do Brasil\n",
        "\n",
        "df_estabelecimentos = df_estabelecimentos.filter(f.col(\"Estado\") != \"EX\")"
      ],
      "metadata": {
        "id": "ZjDUMew0ZdHQ"
      },
      "execution_count": null,
      "outputs": []
    },
    {
      "cell_type": "code",
      "source": [
        "# Verificando se saiu todos os dados de EX.\n",
        "\n",
        "df_estabelecimentos.select(\"Estado\").distinct().show()"
      ],
      "metadata": {
        "colab": {
          "base_uri": "https://localhost:8080/"
        },
        "id": "TiIxZxgefcaN",
        "outputId": "56927482-5981-474b-9995-6a344631f21c"
      },
      "execution_count": null,
      "outputs": [
        {
          "output_type": "stream",
          "name": "stdout",
          "text": [
            "+------+\n",
            "|Estado|\n",
            "+------+\n",
            "|    SC|\n",
            "|    RO|\n",
            "|    PI|\n",
            "|    AM|\n",
            "|    RR|\n",
            "|    GO|\n",
            "|    TO|\n",
            "|    MT|\n",
            "|    SP|\n",
            "|    ES|\n",
            "|    PB|\n",
            "|    RS|\n",
            "|    MS|\n",
            "|    AL|\n",
            "|    MG|\n",
            "|    PA|\n",
            "|    BA|\n",
            "|    SE|\n",
            "|    PE|\n",
            "|    CE|\n",
            "+------+\n",
            "only showing top 20 rows\n",
            "\n"
          ]
        }
      ]
    },
    {
      "cell_type": "code",
      "source": [
        "# Substituindo as siglas dos estados pelo respectivo nome de cada estado\n",
        "\n",
        "df_estabelecimentos = df_estabelecimentos.withColumn(\n",
        "    \"Estado\", # definindo a coluna\n",
        "    f.when(df_estabelecimentos[\"Estado\"] == \"SP\", \"Sao Paulo\") # se o valor na coluna Estado for igual a SP substitua por Sao Paulo\n",
        "    f.when(df_estabelecimentos[\"Estado\"] == \"SC\", \"Santa Catarina\")\n",
        "    f.when(df_estabelecimentos[\"Estado\"] == \"RO\", \"Rondonia\")\n",
        "    f.when(df_estabelecimentos[\"Estado\"] == \"PI\", \"Piaui\")\n",
        "    f.when(df_estabelecimentos[\"Estado\"] == \"AM\", \"Amazonas\")\n",
        "    f.when(df_estabelecimentos[\"Estado\"] == \"RR\", \"Roraima\")\n",
        "    f.when(df_estabelecimentos[\"Estado\"] == \"GO\", \"Goias\")\n",
        "    f.when(df_estabelecimentos[\"Estado\"] == \"TO\", \"Tocantins\")\n",
        "    f.when(df_estabelecimentos[\"Estado\"] == \"MT\", \"Mato Grosso\")\n",
        "    f.when(df_estabelecimentos[\"Estado\"] == \"ES\", \"Espirito Santo\")\n",
        "    f.when(df_estabelecimentos[\"Estado\"] == \"PB\", \"Paraiba\")\n",
        "    f.when(df_estabelecimentos[\"Estado\"] == \"RS\", \"Rio Grande do Sul\")\n",
        "    f.when(df_estabelecimentos[\"Estado\"] == \"MS\", \"Mato Grosso do Sul\")\n",
        "    f.when(df_estabelecimentos[\"Estado\"] == \"AL\", \"Alagoas\")\n",
        "    f.when(df_estabelecimentos[\"Estado\"] == \"MG\", \"Minas Gerais\")\n",
        "    f.when(df_estabelecimentos[\"Estado\"] == \"PA\", \"Para\")\n",
        "    f.when(df_estabelecimentos[\"Estado\"] == \"BA\", \"Bahia\")\n",
        "    f.when(df_estabelecimentos[\"Estado\"] == \"SE\", \"Sergipe\")\n",
        "    f.when(df_estabelecimentos[\"Estado\"] == \"PE\", \"Pernambuco\")\n",
        "    .otherwise(df_estabelecimentos[\"Estado\"]))\n",
        "\n"
      ],
      "metadata": {
        "colab": {
          "base_uri": "https://localhost:8080/",
          "height": 158
        },
        "id": "gDxjzg9NNDP-",
        "outputId": "137cfc5b-645b-4a89-9ee7-1553fba1a4c9"
      },
      "execution_count": null,
      "outputs": [
        {
          "output_type": "error",
          "ename": "SyntaxError",
          "evalue": "invalid syntax. Perhaps you forgot a comma? (<ipython-input-34-77cf428a0df4>, line 5)",
          "traceback": [
            "\u001b[0;36m  File \u001b[0;32m\"<ipython-input-34-77cf428a0df4>\"\u001b[0;36m, line \u001b[0;32m5\u001b[0m\n\u001b[0;31m    f.when(df_estabelecimentos[\"Estado\"] == \"SP\", \"Sao Paulo\") # se o valor na coluna Estado for igual a SP substitua por Sao Paulo\u001b[0m\n\u001b[0m    ^\u001b[0m\n\u001b[0;31mSyntaxError\u001b[0m\u001b[0;31m:\u001b[0m invalid syntax. Perhaps you forgot a comma?\n"
          ]
        }
      ]
    },
    {
      "cell_type": "code",
      "source": [
        "# Slavando em uma pasta no google drive de arquivos tratados\n",
        "\n",
        "df_estabelecimentos.write.csv(\"/content/drive/MyDrive/Bases Tratadas/estabelecimentos.csv\", header=True, mode=\"overwrite\")"
      ],
      "metadata": {
        "id": "GrgC8_oibeNm"
      },
      "execution_count": null,
      "outputs": []
    }
  ]
}