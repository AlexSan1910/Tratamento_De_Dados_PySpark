{
  "nbformat": 4,
  "nbformat_minor": 0,
  "metadata": {
    "colab": {
      "provenance": [],
      "mount_file_id": "1XZz_O3Z4cJBet6hMvIT_yWdHr-RX3hAz",
      "authorship_tag": "ABX9TyNk/jGOHlcGtrq7BT76Tdpf",
      "include_colab_link": true
    },
    "kernelspec": {
      "name": "python3",
      "display_name": "Python 3"
    },
    "language_info": {
      "name": "python"
    }
  },
  "cells": [
    {
      "cell_type": "markdown",
      "metadata": {
        "id": "view-in-github",
        "colab_type": "text"
      },
      "source": [
        "<a href=\"https://colab.research.google.com/github/AlexSan1910/Tratamento_De_Dados_PySpark/blob/main/Tratamento_Base_Dados_UEFA.ipynb\" target=\"_parent\"><img src=\"https://colab.research.google.com/assets/colab-badge.svg\" alt=\"Open In Colab\"/></a>"
      ]
    },
    {
      "cell_type": "code",
      "execution_count": null,
      "metadata": {
        "colab": {
          "base_uri": "https://localhost:8080/"
        },
        "id": "c7Y1fKLsgJTn",
        "outputId": "fb55a61e-7c74-46c5-987d-27496e451c1d"
      },
      "outputs": [
        {
          "output_type": "stream",
          "name": "stdout",
          "text": [
            "Collecting pyspark\n",
            "  Downloading pyspark-3.5.0.tar.gz (316.9 MB)\n",
            "\u001b[2K     \u001b[90m━━━━━━━━━━━━━━━━━━━━━━━━━━━━━━━━━━━━━━━━\u001b[0m \u001b[32m316.9/316.9 MB\u001b[0m \u001b[31m4.3 MB/s\u001b[0m eta \u001b[36m0:00:00\u001b[0m\n",
            "\u001b[?25h  Preparing metadata (setup.py) ... \u001b[?25l\u001b[?25hdone\n",
            "Requirement already satisfied: py4j==0.10.9.7 in /usr/local/lib/python3.10/dist-packages (from pyspark) (0.10.9.7)\n",
            "Building wheels for collected packages: pyspark\n",
            "  Building wheel for pyspark (setup.py) ... \u001b[?25l\u001b[?25hdone\n",
            "  Created wheel for pyspark: filename=pyspark-3.5.0-py2.py3-none-any.whl size=317425345 sha256=2c79825e5dfedb9a1ce997c103a9773a64a5d76b38310382e91a860a6bff10da\n",
            "  Stored in directory: /root/.cache/pip/wheels/41/4e/10/c2cf2467f71c678cfc8a6b9ac9241e5e44a01940da8fbb17fc\n",
            "Successfully built pyspark\n",
            "Installing collected packages: pyspark\n",
            "Successfully installed pyspark-3.5.0\n"
          ]
        }
      ],
      "source": [
        "# Intalando biblioteca pyspark\n",
        "\n",
        "!pip install pyspark\n"
      ]
    },
    {
      "cell_type": "code",
      "source": [
        "# Importando bibliotecas\n",
        "\n",
        "from google.colab import files\n",
        "from pyspark.sql import SparkSession\n",
        "from pyspark.sql import functions as f\n",
        "\n",
        "# Criando objeto Spark\n",
        "\n",
        "# 1 - Inicie o ambiente Spark através da biblioteca pyspark e crie o objeto spark para manipulação dos dados.\n",
        "\n",
        "spark = SparkSession.builder.appName(\"Prova Senai\").getOrCreate()"
      ],
      "metadata": {
        "id": "EaOFoCvRgh5_"
      },
      "execution_count": null,
      "outputs": []
    },
    {
      "cell_type": "code",
      "source": [
        "# Importando de base de dados de ranking de futebol\n",
        "\n",
        "url = \"/content/drive/MyDrive/BasesSpark/soccer-spi/soccer-spi/spi_matches.csv\"\n",
        "\n",
        "df_ranking_soccer = spark.read.options(header=True).csv(\n",
        "    url,\n",
        "    sep=\",\",\n",
        "    inferSchema=True\n",
        ")"
      ],
      "metadata": {
        "id": "R3TMyZKUhTMs"
      },
      "execution_count": null,
      "outputs": []
    },
    {
      "cell_type": "code",
      "source": [
        "df_ranking_soccer.show()"
      ],
      "metadata": {
        "colab": {
          "base_uri": "https://localhost:8080/"
        },
        "id": "kp0jA3eDyjA2",
        "outputId": "89b4b9c4-98f2-4f7c-c49a-2da2782e583e"
      },
      "execution_count": null,
      "outputs": [
        {
          "output_type": "stream",
          "name": "stdout",
          "text": [
            "+------+----------+---------+--------------------+-------------------+--------------------+-----+-----+------+------+-------+-----------+-----------+-----------+-----------+------+------+----+----+-----+-----+----------+----------+\n",
            "|season|      date|league_id|              league|              team1|               team2| spi1| spi2| prob1| prob2|probtie|proj_score1|proj_score2|importance1|importance2|score1|score2| xg1| xg2|nsxg1|nsxg2|adj_score1|adj_score2|\n",
            "+------+----------+---------+--------------------+-------------------+--------------------+-----+-----+------+------+-------+-----------+-----------+-----------+-----------+------+------+----+----+-----+-----+----------+----------+\n",
            "|  2016|2016-07-09|     7921|FA Women's Super ...|    Liverpool Women|             Reading|51.56|50.42|0.4389|0.2767| 0.2844|       1.39|       1.05|       NULL|       NULL|     2|     0|NULL|NULL| NULL| NULL|      NULL|      NULL|\n",
            "|  2016|2016-07-10|     7921|FA Women's Super ...|      Arsenal Women| Notts County Ladies|46.61|54.03|0.3572|0.3608| 0.2819|       1.27|       1.28|       NULL|       NULL|     2|     0|NULL|NULL| NULL| NULL|      NULL|      NULL|\n",
            "|  2016|2016-07-10|     7921|FA Women's Super ...|   Chelsea FC Women|     Birmingham City|59.85|54.64|0.4799|0.2487| 0.2714|       1.53|       1.03|       NULL|       NULL|     1|     1|NULL|NULL| NULL| NULL|      NULL|      NULL|\n",
            "|  2016|2016-07-16|     7921|FA Women's Super ...|    Liverpool Women| Notts County Ladies| 53.0|52.35|0.4289|0.2699| 0.3013|       1.27|       0.94|       NULL|       NULL|     0|     0|NULL|NULL| NULL| NULL|      NULL|      NULL|\n",
            "|  2016|2016-07-17|     7921|FA Women's Super ...|   Chelsea FC Women|       Arsenal Women|59.43|60.99|0.4124|0.3157| 0.2719|       1.45|       1.24|       NULL|       NULL|     1|     2|NULL|NULL| NULL| NULL|      NULL|      NULL|\n",
            "|  2016|2016-07-24|     7921|FA Women's Super ...|            Reading|     Birmingham City|50.75|55.03|0.3821|  0.32| 0.2979|       1.22|       1.09|       NULL|       NULL|     1|     1|NULL|NULL| NULL| NULL|      NULL|      NULL|\n",
            "|  2016|2016-07-24|     7921|FA Women's Super ...|Notts County Ladies|Manchester City W...|48.13|60.15|0.3082|0.3888|  0.303|       1.04|        1.2|       NULL|       NULL|     1|     5|NULL|NULL| NULL| NULL|      NULL|      NULL|\n",
            "|  2016|2016-07-31|     7921|FA Women's Super ...|            Reading| Notts County Ladies|50.62|52.63|0.4068|0.3033| 0.2899|       1.31|       1.09|       NULL|       NULL|     1|     1|NULL|NULL| NULL| NULL|      NULL|      NULL|\n",
            "|  2016|2016-07-31|     7921|FA Women's Super ...|      Arsenal Women|     Liverpool Women|48.32|48.46| 0.435|  0.31|  0.255|       1.64|       1.35|       NULL|       NULL|     1|     2|NULL|NULL| NULL| NULL|      NULL|      NULL|\n",
            "|  2016|2016-08-03|     7921|FA Women's Super ...|            Reading|Manchester City W...|50.41| 63.2|0.3061|0.4198| 0.2742|        1.2|       1.45|       NULL|       NULL|     1|     2|NULL|NULL| NULL| NULL|      NULL|      NULL|\n",
            "|  2016|2016-08-12|     1843|      French Ligue 1|             Bastia| Paris Saint-Germain|51.16|85.68|0.0463| 0.838| 0.1157|       0.91|       2.36|       32.4|       67.7|     0|     1|0.97|0.63| 0.43| 0.45|       0.0|      1.05|\n",
            "|  2016|2016-08-12|     1843|      French Ligue 1|          AS Monaco|            Guingamp|68.85|56.48|0.5714|0.1669| 0.2617|       1.82|       0.86|       53.7|       22.9|     2|     2|2.45|0.77| 1.75| 0.42|       2.1|       2.1|\n",
            "|  2016|2016-08-13|     2411|Barclays Premier ...|          Hull City|      Leicester City|53.57|66.81|0.3459|0.3621| 0.2921|       1.16|       1.24|       38.1|       22.2|     2|     1|0.85|2.77| 0.17| 1.25|       2.1|      1.05|\n",
            "|  2016|2016-08-13|     2411|Barclays Premier ...|            Everton|   Tottenham Hotspur|68.02|73.25| 0.391|0.3401| 0.2689|       1.47|       1.38|       31.9|       48.0|     1|     1|0.73|1.11| 0.88| 1.81|      1.05|      1.05|\n",
            "|  2016|2016-08-13|     2411|Barclays Premier ...|     Crystal Palace|West Bromwich Albion|55.19|58.66|0.4214|0.2939| 0.2847|       1.35|       1.14|       43.6|       34.6|     0|     1|1.11|0.68| 0.84|  1.6|       0.0|      1.05|\n",
            "|  2016|2016-08-13|     2411|Barclays Premier ...|      Middlesbrough|          Stoke City|56.32|60.35| 0.438|0.2692| 0.2927|        1.3|       1.01|       33.9|       32.5|     1|     1| 1.4|0.55| 1.13| 1.06|      1.05|      1.05|\n",
            "|  2016|2016-08-13|     2411|Barclays Premier ...|        Southampton|             Watford|69.49|59.33|0.5759|0.1874| 0.2367|       1.91|       1.05|       34.1|       30.7|     1|     1|1.05|0.22| 1.52| 0.41|      1.05|      1.05|\n",
            "|  2016|2016-08-13|     2411|Barclays Premier ...|            Burnley|        Swansea City|58.98|59.74|0.4482|0.2663| 0.2854|       1.37|       1.05|       36.5|       29.1|     0|     1|1.24|1.84| 1.71| 1.56|       0.0|      1.05|\n",
            "|  2016|2016-08-13|     1843|      French Ligue 1|           Bordeaux|          St Etienne|62.01|64.92|0.4232|0.2764| 0.3004|       1.39|       1.14|       37.9|       44.2|     3|     2|1.03|1.84|  1.1| 2.26|      3.12|       2.1|\n",
            "|  2016|2016-08-13|     2411|Barclays Premier ...|    Manchester City|          Sunderland|86.42|53.64|0.8152|0.0525| 0.1323|       2.69|       0.48|       73.0|       27.0|     2|     1|2.14|1.25| 1.81| 0.92|       2.1|      1.05|\n",
            "+------+----------+---------+--------------------+-------------------+--------------------+-----+-----+------+------+-------+-----------+-----------+-----------+-----------+------+------+----+----+-----+-----+----------+----------+\n",
            "only showing top 20 rows\n",
            "\n"
          ]
        }
      ]
    },
    {
      "cell_type": "code",
      "source": [
        "# Alterando nome das colunas em inglês para português\n",
        "\n",
        "# 2 – Altere o nome de pelo menos duas colunas de seu Data Frame.\n",
        "\n",
        "df_ranking_soccer.withColumnsRenamed({\n",
        "    \"season\":\"Temporada\",\n",
        "    \"date\":\"Data_Partida\",\n",
        "    \"league_id\":\"Id_Liga\",\n",
        "    \"league\":\"Liga\",\n",
        "    \"team1\":\"Time_Casa\",\n",
        "    \"team2\":\"Time_Visitante\",\n",
        "    \"spi1\":\"Classificacao_Tcasa\",\n",
        "    \"spi2\":\"Classificacao_Tvis.\",\n",
        "    \"prob1\":\"Prob_vitoria_T1\",\n",
        "    \"prob2\":\"Prob_vitoria_T2\",\n",
        "    \"score1\":\"Gols_Marcados_T1\",\n",
        "    \"score2\":\"Gols_Marcados_T2\"\n",
        "\n",
        "}).show()"
      ],
      "metadata": {
        "colab": {
          "base_uri": "https://localhost:8080/"
        },
        "id": "PTQb3UCFyo0s",
        "outputId": "589d53a6-0546-4d2c-b08c-58bcda061aa1"
      },
      "execution_count": null,
      "outputs": [
        {
          "output_type": "stream",
          "name": "stdout",
          "text": [
            "+---------+------------+-------+--------------------+-------------------+--------------------+-------------------+-------------------+---------------+---------------+-------+-----------+-----------+-----------+-----------+----------------+----------------+----+----+-----+-----+----------+----------+\n",
            "|Temporada|Data_Partida|Id_Liga|                Liga|          Time_Casa|      Time_Visitante|Classificacao_Tcasa|Classificacao_Tvis.|Prob_vitoria_T1|Prob_vitoria_T2|probtie|proj_score1|proj_score2|importance1|importance2|Gols_Marcados_T1|Gols_Marcados_T2| xg1| xg2|nsxg1|nsxg2|adj_score1|adj_score2|\n",
            "+---------+------------+-------+--------------------+-------------------+--------------------+-------------------+-------------------+---------------+---------------+-------+-----------+-----------+-----------+-----------+----------------+----------------+----+----+-----+-----+----------+----------+\n",
            "|     2016|  2016-07-09|   7921|FA Women's Super ...|    Liverpool Women|             Reading|              51.56|              50.42|         0.4389|         0.2767| 0.2844|       1.39|       1.05|       NULL|       NULL|               2|               0|NULL|NULL| NULL| NULL|      NULL|      NULL|\n",
            "|     2016|  2016-07-10|   7921|FA Women's Super ...|      Arsenal Women| Notts County Ladies|              46.61|              54.03|         0.3572|         0.3608| 0.2819|       1.27|       1.28|       NULL|       NULL|               2|               0|NULL|NULL| NULL| NULL|      NULL|      NULL|\n",
            "|     2016|  2016-07-10|   7921|FA Women's Super ...|   Chelsea FC Women|     Birmingham City|              59.85|              54.64|         0.4799|         0.2487| 0.2714|       1.53|       1.03|       NULL|       NULL|               1|               1|NULL|NULL| NULL| NULL|      NULL|      NULL|\n",
            "|     2016|  2016-07-16|   7921|FA Women's Super ...|    Liverpool Women| Notts County Ladies|               53.0|              52.35|         0.4289|         0.2699| 0.3013|       1.27|       0.94|       NULL|       NULL|               0|               0|NULL|NULL| NULL| NULL|      NULL|      NULL|\n",
            "|     2016|  2016-07-17|   7921|FA Women's Super ...|   Chelsea FC Women|       Arsenal Women|              59.43|              60.99|         0.4124|         0.3157| 0.2719|       1.45|       1.24|       NULL|       NULL|               1|               2|NULL|NULL| NULL| NULL|      NULL|      NULL|\n",
            "|     2016|  2016-07-24|   7921|FA Women's Super ...|            Reading|     Birmingham City|              50.75|              55.03|         0.3821|           0.32| 0.2979|       1.22|       1.09|       NULL|       NULL|               1|               1|NULL|NULL| NULL| NULL|      NULL|      NULL|\n",
            "|     2016|  2016-07-24|   7921|FA Women's Super ...|Notts County Ladies|Manchester City W...|              48.13|              60.15|         0.3082|         0.3888|  0.303|       1.04|        1.2|       NULL|       NULL|               1|               5|NULL|NULL| NULL| NULL|      NULL|      NULL|\n",
            "|     2016|  2016-07-31|   7921|FA Women's Super ...|            Reading| Notts County Ladies|              50.62|              52.63|         0.4068|         0.3033| 0.2899|       1.31|       1.09|       NULL|       NULL|               1|               1|NULL|NULL| NULL| NULL|      NULL|      NULL|\n",
            "|     2016|  2016-07-31|   7921|FA Women's Super ...|      Arsenal Women|     Liverpool Women|              48.32|              48.46|          0.435|           0.31|  0.255|       1.64|       1.35|       NULL|       NULL|               1|               2|NULL|NULL| NULL| NULL|      NULL|      NULL|\n",
            "|     2016|  2016-08-03|   7921|FA Women's Super ...|            Reading|Manchester City W...|              50.41|               63.2|         0.3061|         0.4198| 0.2742|        1.2|       1.45|       NULL|       NULL|               1|               2|NULL|NULL| NULL| NULL|      NULL|      NULL|\n",
            "|     2016|  2016-08-12|   1843|      French Ligue 1|             Bastia| Paris Saint-Germain|              51.16|              85.68|         0.0463|          0.838| 0.1157|       0.91|       2.36|       32.4|       67.7|               0|               1|0.97|0.63| 0.43| 0.45|       0.0|      1.05|\n",
            "|     2016|  2016-08-12|   1843|      French Ligue 1|          AS Monaco|            Guingamp|              68.85|              56.48|         0.5714|         0.1669| 0.2617|       1.82|       0.86|       53.7|       22.9|               2|               2|2.45|0.77| 1.75| 0.42|       2.1|       2.1|\n",
            "|     2016|  2016-08-13|   2411|Barclays Premier ...|          Hull City|      Leicester City|              53.57|              66.81|         0.3459|         0.3621| 0.2921|       1.16|       1.24|       38.1|       22.2|               2|               1|0.85|2.77| 0.17| 1.25|       2.1|      1.05|\n",
            "|     2016|  2016-08-13|   2411|Barclays Premier ...|            Everton|   Tottenham Hotspur|              68.02|              73.25|          0.391|         0.3401| 0.2689|       1.47|       1.38|       31.9|       48.0|               1|               1|0.73|1.11| 0.88| 1.81|      1.05|      1.05|\n",
            "|     2016|  2016-08-13|   2411|Barclays Premier ...|     Crystal Palace|West Bromwich Albion|              55.19|              58.66|         0.4214|         0.2939| 0.2847|       1.35|       1.14|       43.6|       34.6|               0|               1|1.11|0.68| 0.84|  1.6|       0.0|      1.05|\n",
            "|     2016|  2016-08-13|   2411|Barclays Premier ...|      Middlesbrough|          Stoke City|              56.32|              60.35|          0.438|         0.2692| 0.2927|        1.3|       1.01|       33.9|       32.5|               1|               1| 1.4|0.55| 1.13| 1.06|      1.05|      1.05|\n",
            "|     2016|  2016-08-13|   2411|Barclays Premier ...|        Southampton|             Watford|              69.49|              59.33|         0.5759|         0.1874| 0.2367|       1.91|       1.05|       34.1|       30.7|               1|               1|1.05|0.22| 1.52| 0.41|      1.05|      1.05|\n",
            "|     2016|  2016-08-13|   2411|Barclays Premier ...|            Burnley|        Swansea City|              58.98|              59.74|         0.4482|         0.2663| 0.2854|       1.37|       1.05|       36.5|       29.1|               0|               1|1.24|1.84| 1.71| 1.56|       0.0|      1.05|\n",
            "|     2016|  2016-08-13|   1843|      French Ligue 1|           Bordeaux|          St Etienne|              62.01|              64.92|         0.4232|         0.2764| 0.3004|       1.39|       1.14|       37.9|       44.2|               3|               2|1.03|1.84|  1.1| 2.26|      3.12|       2.1|\n",
            "|     2016|  2016-08-13|   2411|Barclays Premier ...|    Manchester City|          Sunderland|              86.42|              53.64|         0.8152|         0.0525| 0.1323|       2.69|       0.48|       73.0|       27.0|               2|               1|2.14|1.25| 1.81| 0.92|       2.1|      1.05|\n",
            "+---------+------------+-------+--------------------+-------------------+--------------------+-------------------+-------------------+---------------+---------------+-------+-----------+-----------+-----------+-----------+----------------+----------------+----+----+-----+-----+----------+----------+\n",
            "only showing top 20 rows\n",
            "\n"
          ]
        }
      ]
    },
    {
      "cell_type": "code",
      "source": [
        "# Adicionando alterações do nome das colunas no data frame\n",
        "\n",
        "df_ranking_soccer = df_ranking_soccer.withColumnsRenamed({\n",
        "    \"season\":\"Temporada\",\n",
        "    \"date\":\"Data_Partida\",\n",
        "    \"league_id\":\"Id_Liga\",\n",
        "    \"league\":\"Liga\",\n",
        "    \"team1\":\"Time_Casa\",\n",
        "    \"team2\":\"Time_Visitante\",\n",
        "    \"spi1\":\"Classificacao_Tcasa\",\n",
        "    \"spi2\":\"Classificacao_Tvis.\",\n",
        "    \"prob1\":\"Prob_vitoria_T1\",\n",
        "    \"prob2\":\"Prob_vitoria_T2\",\n",
        "    \"score1\":\"Gols_Marcados_T1\",\n",
        "    \"score2\":\"Gols_Marcados_T2\"\n",
        "\n",
        "})"
      ],
      "metadata": {
        "id": "nFT4Lbsb1AI2"
      },
      "execution_count": null,
      "outputs": []
    },
    {
      "cell_type": "code",
      "source": [
        "# Excluindo colunas que não iremos utilizar\n",
        "\n",
        "df_ranking_soccer.drop(\"adj_score1\",\"adj_score2\", \"xg1\", \"xg2\", \"nsxg1\", \"nsxg2\", \"proj_score1\", \"proj_score2\", \"importance1\", \"importance2\").show()"
      ],
      "metadata": {
        "colab": {
          "base_uri": "https://localhost:8080/"
        },
        "id": "HzHCeF-mBnqx",
        "outputId": "df7563c5-4322-48ae-fe39-10ff3ad615b5"
      },
      "execution_count": null,
      "outputs": [
        {
          "output_type": "stream",
          "name": "stdout",
          "text": [
            "+---------+------------+-------+--------------------+-------------------+--------------------+-------------------+-------------------+---------------+---------------+-------+----------------+----------------+\n",
            "|Temporada|Data_Partida|Id_Liga|                Liga|          Time_Casa|      Time_Visitante|Classificacao_Tcasa|Classificacao_Tvis.|Prob_vitoria_T1|Prob_vitoria_T2|probtie|Gols_Marcados_T1|Gols_Marcados_T2|\n",
            "+---------+------------+-------+--------------------+-------------------+--------------------+-------------------+-------------------+---------------+---------------+-------+----------------+----------------+\n",
            "|     2016|  2016-07-09|   7921|FA Women's Super ...|    Liverpool Women|             Reading|              51.56|              50.42|         0.4389|         0.2767| 0.2844|               2|               0|\n",
            "|     2016|  2016-07-10|   7921|FA Women's Super ...|      Arsenal Women| Notts County Ladies|              46.61|              54.03|         0.3572|         0.3608| 0.2819|               2|               0|\n",
            "|     2016|  2016-07-10|   7921|FA Women's Super ...|   Chelsea FC Women|     Birmingham City|              59.85|              54.64|         0.4799|         0.2487| 0.2714|               1|               1|\n",
            "|     2016|  2016-07-16|   7921|FA Women's Super ...|    Liverpool Women| Notts County Ladies|               53.0|              52.35|         0.4289|         0.2699| 0.3013|               0|               0|\n",
            "|     2016|  2016-07-17|   7921|FA Women's Super ...|   Chelsea FC Women|       Arsenal Women|              59.43|              60.99|         0.4124|         0.3157| 0.2719|               1|               2|\n",
            "|     2016|  2016-07-24|   7921|FA Women's Super ...|            Reading|     Birmingham City|              50.75|              55.03|         0.3821|           0.32| 0.2979|               1|               1|\n",
            "|     2016|  2016-07-24|   7921|FA Women's Super ...|Notts County Ladies|Manchester City W...|              48.13|              60.15|         0.3082|         0.3888|  0.303|               1|               5|\n",
            "|     2016|  2016-07-31|   7921|FA Women's Super ...|            Reading| Notts County Ladies|              50.62|              52.63|         0.4068|         0.3033| 0.2899|               1|               1|\n",
            "|     2016|  2016-07-31|   7921|FA Women's Super ...|      Arsenal Women|     Liverpool Women|              48.32|              48.46|          0.435|           0.31|  0.255|               1|               2|\n",
            "|     2016|  2016-08-03|   7921|FA Women's Super ...|            Reading|Manchester City W...|              50.41|               63.2|         0.3061|         0.4198| 0.2742|               1|               2|\n",
            "|     2016|  2016-08-12|   1843|      French Ligue 1|             Bastia| Paris Saint-Germain|              51.16|              85.68|         0.0463|          0.838| 0.1157|               0|               1|\n",
            "|     2016|  2016-08-12|   1843|      French Ligue 1|          AS Monaco|            Guingamp|              68.85|              56.48|         0.5714|         0.1669| 0.2617|               2|               2|\n",
            "|     2016|  2016-08-13|   2411|Barclays Premier ...|          Hull City|      Leicester City|              53.57|              66.81|         0.3459|         0.3621| 0.2921|               2|               1|\n",
            "|     2016|  2016-08-13|   2411|Barclays Premier ...|            Everton|   Tottenham Hotspur|              68.02|              73.25|          0.391|         0.3401| 0.2689|               1|               1|\n",
            "|     2016|  2016-08-13|   2411|Barclays Premier ...|     Crystal Palace|West Bromwich Albion|              55.19|              58.66|         0.4214|         0.2939| 0.2847|               0|               1|\n",
            "|     2016|  2016-08-13|   2411|Barclays Premier ...|      Middlesbrough|          Stoke City|              56.32|              60.35|          0.438|         0.2692| 0.2927|               1|               1|\n",
            "|     2016|  2016-08-13|   2411|Barclays Premier ...|        Southampton|             Watford|              69.49|              59.33|         0.5759|         0.1874| 0.2367|               1|               1|\n",
            "|     2016|  2016-08-13|   2411|Barclays Premier ...|            Burnley|        Swansea City|              58.98|              59.74|         0.4482|         0.2663| 0.2854|               0|               1|\n",
            "|     2016|  2016-08-13|   1843|      French Ligue 1|           Bordeaux|          St Etienne|              62.01|              64.92|         0.4232|         0.2764| 0.3004|               3|               2|\n",
            "|     2016|  2016-08-13|   2411|Barclays Premier ...|    Manchester City|          Sunderland|              86.42|              53.64|         0.8152|         0.0525| 0.1323|               2|               1|\n",
            "+---------+------------+-------+--------------------+-------------------+--------------------+-------------------+-------------------+---------------+---------------+-------+----------------+----------------+\n",
            "only showing top 20 rows\n",
            "\n"
          ]
        }
      ]
    },
    {
      "cell_type": "code",
      "source": [
        "# Adicionando alterações de exclusão no data frame\n",
        "\n",
        "df_ranking_soccer = df_ranking_soccer\\\n",
        "          .drop(\"adj_score1\",\"adj_score2\", \"xg1\", \"xg2\", \"nsxg1\", \"nsxg2\", \"proj_score1\", \"proj_score2\", \"importance1\", \"importance2\")\n",
        "\n",
        "df_ranking_soccer.show()"
      ],
      "metadata": {
        "colab": {
          "base_uri": "https://localhost:8080/"
        },
        "id": "m6x5WXq7DpPo",
        "outputId": "7550f847-9cb1-4579-b962-bfdf1158babd"
      },
      "execution_count": null,
      "outputs": [
        {
          "output_type": "stream",
          "name": "stdout",
          "text": [
            "+---------+------------+-------+--------------------+-------------------+--------------------+-------------------+-------------------+---------------+---------------+-------+----------------+----------------+\n",
            "|Temporada|Data_Partida|Id_Liga|                Liga|          Time_Casa|      Time_Visitante|Classificacao_Tcasa|Classificacao_Tvis.|Prob_vitoria_T1|Prob_vitoria_T2|probtie|Gols_Marcados_T1|Gols_Marcados_T2|\n",
            "+---------+------------+-------+--------------------+-------------------+--------------------+-------------------+-------------------+---------------+---------------+-------+----------------+----------------+\n",
            "|     2016|  2016-07-09|   7921|FA Women's Super ...|    Liverpool Women|             Reading|              51.56|              50.42|         0.4389|         0.2767| 0.2844|               2|               0|\n",
            "|     2016|  2016-07-10|   7921|FA Women's Super ...|      Arsenal Women| Notts County Ladies|              46.61|              54.03|         0.3572|         0.3608| 0.2819|               2|               0|\n",
            "|     2016|  2016-07-10|   7921|FA Women's Super ...|   Chelsea FC Women|     Birmingham City|              59.85|              54.64|         0.4799|         0.2487| 0.2714|               1|               1|\n",
            "|     2016|  2016-07-16|   7921|FA Women's Super ...|    Liverpool Women| Notts County Ladies|               53.0|              52.35|         0.4289|         0.2699| 0.3013|               0|               0|\n",
            "|     2016|  2016-07-17|   7921|FA Women's Super ...|   Chelsea FC Women|       Arsenal Women|              59.43|              60.99|         0.4124|         0.3157| 0.2719|               1|               2|\n",
            "|     2016|  2016-07-24|   7921|FA Women's Super ...|            Reading|     Birmingham City|              50.75|              55.03|         0.3821|           0.32| 0.2979|               1|               1|\n",
            "|     2016|  2016-07-24|   7921|FA Women's Super ...|Notts County Ladies|Manchester City W...|              48.13|              60.15|         0.3082|         0.3888|  0.303|               1|               5|\n",
            "|     2016|  2016-07-31|   7921|FA Women's Super ...|            Reading| Notts County Ladies|              50.62|              52.63|         0.4068|         0.3033| 0.2899|               1|               1|\n",
            "|     2016|  2016-07-31|   7921|FA Women's Super ...|      Arsenal Women|     Liverpool Women|              48.32|              48.46|          0.435|           0.31|  0.255|               1|               2|\n",
            "|     2016|  2016-08-03|   7921|FA Women's Super ...|            Reading|Manchester City W...|              50.41|               63.2|         0.3061|         0.4198| 0.2742|               1|               2|\n",
            "|     2016|  2016-08-12|   1843|      French Ligue 1|             Bastia| Paris Saint-Germain|              51.16|              85.68|         0.0463|          0.838| 0.1157|               0|               1|\n",
            "|     2016|  2016-08-12|   1843|      French Ligue 1|          AS Monaco|            Guingamp|              68.85|              56.48|         0.5714|         0.1669| 0.2617|               2|               2|\n",
            "|     2016|  2016-08-13|   2411|Barclays Premier ...|          Hull City|      Leicester City|              53.57|              66.81|         0.3459|         0.3621| 0.2921|               2|               1|\n",
            "|     2016|  2016-08-13|   2411|Barclays Premier ...|            Everton|   Tottenham Hotspur|              68.02|              73.25|          0.391|         0.3401| 0.2689|               1|               1|\n",
            "|     2016|  2016-08-13|   2411|Barclays Premier ...|     Crystal Palace|West Bromwich Albion|              55.19|              58.66|         0.4214|         0.2939| 0.2847|               0|               1|\n",
            "|     2016|  2016-08-13|   2411|Barclays Premier ...|      Middlesbrough|          Stoke City|              56.32|              60.35|          0.438|         0.2692| 0.2927|               1|               1|\n",
            "|     2016|  2016-08-13|   2411|Barclays Premier ...|        Southampton|             Watford|              69.49|              59.33|         0.5759|         0.1874| 0.2367|               1|               1|\n",
            "|     2016|  2016-08-13|   2411|Barclays Premier ...|            Burnley|        Swansea City|              58.98|              59.74|         0.4482|         0.2663| 0.2854|               0|               1|\n",
            "|     2016|  2016-08-13|   1843|      French Ligue 1|           Bordeaux|          St Etienne|              62.01|              64.92|         0.4232|         0.2764| 0.3004|               3|               2|\n",
            "|     2016|  2016-08-13|   2411|Barclays Premier ...|    Manchester City|          Sunderland|              86.42|              53.64|         0.8152|         0.0525| 0.1323|               2|               1|\n",
            "+---------+------------+-------+--------------------+-------------------+--------------------+-------------------+-------------------+---------------+---------------+-------+----------------+----------------+\n",
            "only showing top 20 rows\n",
            "\n"
          ]
        }
      ]
    },
    {
      "cell_type": "code",
      "source": [
        "# 3 – Converta o tipo de dados de alguma coluna de sua escolha: Pode ser uma conversão para float, int ou date.\n",
        "\n",
        "df_ranking_soccer.printSchema()\n",
        "\n",
        "\n",
        "\n",
        "df_ranking_soccer.withColumn(\"Gols_Marcados_T1\", df_ranking_soccer[\"Gols_Marcados_T1\"].cast(\"int\"))\n",
        "df_ranking_soccer.withColumn(\"Gols_Marcados_T2\", df_ranking_soccer[\"Gols_Marcados_T2\"].cast(\"int\"))\n",
        "\n",
        "df_ranking_soccer.show()"
      ],
      "metadata": {
        "colab": {
          "base_uri": "https://localhost:8080/"
        },
        "id": "LwOkAd5c3KAl",
        "outputId": "0c38a1a0-2de3-4a24-a2b3-30c7751c001e"
      },
      "execution_count": null,
      "outputs": [
        {
          "output_type": "stream",
          "name": "stdout",
          "text": [
            "root\n",
            " |-- Temporada: integer (nullable = true)\n",
            " |-- Data_Partida: date (nullable = true)\n",
            " |-- Id_Liga: integer (nullable = true)\n",
            " |-- Liga: string (nullable = true)\n",
            " |-- Time_Casa: string (nullable = true)\n",
            " |-- Time_Visitante: string (nullable = true)\n",
            " |-- Classificacao_Tcasa: double (nullable = true)\n",
            " |-- Classificacao_Tvis.: double (nullable = true)\n",
            " |-- Prob_vitoria_T1: double (nullable = true)\n",
            " |-- Prob_vitoria_T2: double (nullable = true)\n",
            " |-- probtie: double (nullable = true)\n",
            " |-- Gols_Marcados_T1: integer (nullable = true)\n",
            " |-- Gols_Marcados_T2: integer (nullable = true)\n",
            "\n",
            "+---------+------------+-------+--------------------+-------------------+--------------------+-------------------+-------------------+---------------+---------------+-------+----------------+----------------+\n",
            "|Temporada|Data_Partida|Id_Liga|                Liga|          Time_Casa|      Time_Visitante|Classificacao_Tcasa|Classificacao_Tvis.|Prob_vitoria_T1|Prob_vitoria_T2|probtie|Gols_Marcados_T1|Gols_Marcados_T2|\n",
            "+---------+------------+-------+--------------------+-------------------+--------------------+-------------------+-------------------+---------------+---------------+-------+----------------+----------------+\n",
            "|     2016|  2016-07-09|   7921|FA Women's Super ...|    Liverpool Women|             Reading|              51.56|              50.42|         0.4389|         0.2767| 0.2844|               2|               0|\n",
            "|     2016|  2016-07-10|   7921|FA Women's Super ...|      Arsenal Women| Notts County Ladies|              46.61|              54.03|         0.3572|         0.3608| 0.2819|               2|               0|\n",
            "|     2016|  2016-07-10|   7921|FA Women's Super ...|   Chelsea FC Women|     Birmingham City|              59.85|              54.64|         0.4799|         0.2487| 0.2714|               1|               1|\n",
            "|     2016|  2016-07-16|   7921|FA Women's Super ...|    Liverpool Women| Notts County Ladies|               53.0|              52.35|         0.4289|         0.2699| 0.3013|               0|               0|\n",
            "|     2016|  2016-07-17|   7921|FA Women's Super ...|   Chelsea FC Women|       Arsenal Women|              59.43|              60.99|         0.4124|         0.3157| 0.2719|               1|               2|\n",
            "|     2016|  2016-07-24|   7921|FA Women's Super ...|            Reading|     Birmingham City|              50.75|              55.03|         0.3821|           0.32| 0.2979|               1|               1|\n",
            "|     2016|  2016-07-24|   7921|FA Women's Super ...|Notts County Ladies|Manchester City W...|              48.13|              60.15|         0.3082|         0.3888|  0.303|               1|               5|\n",
            "|     2016|  2016-07-31|   7921|FA Women's Super ...|            Reading| Notts County Ladies|              50.62|              52.63|         0.4068|         0.3033| 0.2899|               1|               1|\n",
            "|     2016|  2016-07-31|   7921|FA Women's Super ...|      Arsenal Women|     Liverpool Women|              48.32|              48.46|          0.435|           0.31|  0.255|               1|               2|\n",
            "|     2016|  2016-08-03|   7921|FA Women's Super ...|            Reading|Manchester City W...|              50.41|               63.2|         0.3061|         0.4198| 0.2742|               1|               2|\n",
            "|     2016|  2016-08-12|   1843|      French Ligue 1|             Bastia| Paris Saint-Germain|              51.16|              85.68|         0.0463|          0.838| 0.1157|               0|               1|\n",
            "|     2016|  2016-08-12|   1843|      French Ligue 1|          AS Monaco|            Guingamp|              68.85|              56.48|         0.5714|         0.1669| 0.2617|               2|               2|\n",
            "|     2016|  2016-08-13|   2411|Barclays Premier ...|          Hull City|      Leicester City|              53.57|              66.81|         0.3459|         0.3621| 0.2921|               2|               1|\n",
            "|     2016|  2016-08-13|   2411|Barclays Premier ...|            Everton|   Tottenham Hotspur|              68.02|              73.25|          0.391|         0.3401| 0.2689|               1|               1|\n",
            "|     2016|  2016-08-13|   2411|Barclays Premier ...|     Crystal Palace|West Bromwich Albion|              55.19|              58.66|         0.4214|         0.2939| 0.2847|               0|               1|\n",
            "|     2016|  2016-08-13|   2411|Barclays Premier ...|      Middlesbrough|          Stoke City|              56.32|              60.35|          0.438|         0.2692| 0.2927|               1|               1|\n",
            "|     2016|  2016-08-13|   2411|Barclays Premier ...|        Southampton|             Watford|              69.49|              59.33|         0.5759|         0.1874| 0.2367|               1|               1|\n",
            "|     2016|  2016-08-13|   2411|Barclays Premier ...|            Burnley|        Swansea City|              58.98|              59.74|         0.4482|         0.2663| 0.2854|               0|               1|\n",
            "|     2016|  2016-08-13|   1843|      French Ligue 1|           Bordeaux|          St Etienne|              62.01|              64.92|         0.4232|         0.2764| 0.3004|               3|               2|\n",
            "|     2016|  2016-08-13|   2411|Barclays Premier ...|    Manchester City|          Sunderland|              86.42|              53.64|         0.8152|         0.0525| 0.1323|               2|               1|\n",
            "+---------+------------+-------+--------------------+-------------------+--------------------+-------------------+-------------------+---------------+---------------+-------+----------------+----------------+\n",
            "only showing top 20 rows\n",
            "\n"
          ]
        }
      ]
    },
    {
      "cell_type": "code",
      "source": [
        "df_ranking_soccer.printSchema()"
      ],
      "metadata": {
        "colab": {
          "base_uri": "https://localhost:8080/"
        },
        "id": "W97_XPg04ggf",
        "outputId": "f56d7236-f36b-4749-9cbd-2cb6c50f2803"
      },
      "execution_count": null,
      "outputs": [
        {
          "output_type": "stream",
          "name": "stdout",
          "text": [
            "root\n",
            " |-- Temporada: integer (nullable = true)\n",
            " |-- Data_Partida: date (nullable = true)\n",
            " |-- Id_Liga: integer (nullable = true)\n",
            " |-- Liga: string (nullable = true)\n",
            " |-- Time_Casa: string (nullable = true)\n",
            " |-- Time_Visitante: string (nullable = true)\n",
            " |-- Classificacao_Tcasa: double (nullable = true)\n",
            " |-- Classificacao_Tvis.: double (nullable = true)\n",
            " |-- Prob_vitoria_T1: double (nullable = true)\n",
            " |-- Prob_vitoria_T2: double (nullable = true)\n",
            " |-- probtie: double (nullable = true)\n",
            " |-- Gols_Marcados_T1: integer (nullable = true)\n",
            " |-- Gols_Marcados_T2: integer (nullable = true)\n",
            "\n"
          ]
        }
      ]
    },
    {
      "cell_type": "code",
      "source": [
        "# 4 – Realize 3 consultas através da função pyspark.sql. Pelo menos uma das consultas deve conter alguma função de agregação:\n",
        "# count(), sum(), avg(), etc. Descreva qual o tipo de análise você fará no Data Frame e depois exiba o código em Python com o\n",
        "# resultado da análise.\n",
        "\n",
        "# Mostrando os times que tem a classificação maior que 70 pontos na tabela\n",
        "\n",
        "df_ranking_soccer.where(\"Classificacao_Tcasa >= 70.00\").show()"
      ],
      "metadata": {
        "colab": {
          "base_uri": "https://localhost:8080/"
        },
        "id": "dXwrxAH79-v0",
        "outputId": "66622cd7-9967-4759-b7a0-c8f2470c5a4f"
      },
      "execution_count": null,
      "outputs": [
        {
          "output_type": "stream",
          "name": "stdout",
          "text": [
            "+---------+------------+-------+--------------------+-------------------+---------------+-------------------+-------------------+---------------+---------------+-------+----------------+----------------+\n",
            "|Temporada|Data_Partida|Id_Liga|                Liga|          Time_Casa| Time_Visitante|Classificacao_Tcasa|Classificacao_Tvis.|Prob_vitoria_T1|Prob_vitoria_T2|probtie|Gols_Marcados_T1|Gols_Marcados_T2|\n",
            "+---------+------------+-------+--------------------+-------------------+---------------+-------------------+-------------------+---------------+---------------+-------+----------------+----------------+\n",
            "|     2016|  2016-08-13|   2411|Barclays Premier ...|    Manchester City|     Sunderland|              86.42|              53.64|         0.8152|         0.0525| 0.1323|               2|               1|\n",
            "|     2016|  2016-08-14|   2411|Barclays Premier ...|            Arsenal|      Liverpool|              82.55|              77.44|         0.5551|         0.2115| 0.2334|               3|               4|\n",
            "|     2016|  2016-08-15|   2411|Barclays Premier ...|            Chelsea|West Ham United|               80.7|              63.27|         0.6908|         0.1177| 0.1915|               2|               1|\n",
            "|     2016|  2016-08-19|   1869|Spanish Primera D...|             Málaga|        Osasuna|              72.57|              56.93|         0.5475|         0.1897| 0.2628|               1|               1|\n",
            "|     2016|  2016-08-19|   1843|      French Ligue 1|               Lyon|           Caen|              70.32|              55.32|         0.6106|         0.1554|  0.234|               2|               0|\n",
            "|     2016|  2016-08-19|   2411|Barclays Premier ...|  Manchester United|    Southampton|              81.05|              69.22|         0.6197|         0.1494| 0.2309|               2|               0|\n",
            "|     2016|  2016-08-20|   2411|Barclays Premier ...|  Tottenham Hotspur| Crystal Palace|              73.64|              54.21|         0.6638|          0.119| 0.2172|               1|               0|\n",
            "|     2016|  2016-08-20|   1854|       Italy Serie A|            AS Roma|        Udinese|              74.63|              55.56|         0.7204|         0.0918| 0.1878|               4|               0|\n",
            "|     2016|  2016-08-20|   1869|Spanish Primera D...|          Barcelona|     Real Betis|              96.35|              69.95|         0.9591|         0.0071| 0.0337|               6|               2|\n",
            "|     2016|  2016-08-20|   1854|       Italy Serie A|           Juventus|     Fiorentina|              82.79|              69.19|         0.6808|          0.101| 0.2182|               2|               1|\n",
            "|     2016|  2016-08-20|   1869|Spanish Primera D...|         Sevilla FC|       Espanyol|              78.76|              68.75|         0.5952|          0.176| 0.2288|               6|               4|\n",
            "|     2016|  2016-08-21|   1869|Spanish Primera D...|      Real Sociedad|    Real Madrid|              72.76|              92.61|         0.1587|         0.6621| 0.1792|               0|               3|\n",
            "|     2016|  2016-08-21|   1843|      French Ligue 1|Paris Saint-Germain|           Metz|              85.38|              55.44|         0.8277|         0.0492| 0.1231|               3|               0|\n",
            "|     2016|  2016-08-21|   1869|Spanish Primera D...|    Atletico Madrid|         Alavés|              89.03|               62.0|         0.8037|         0.0395| 0.1568|               1|               1|\n",
            "|     2016|  2016-08-22|   1869|Spanish Primera D...|         Celta Vigo|        Leganes|              73.19|               66.6|         0.5343|         0.2096| 0.2561|               0|               1|\n",
            "|     2016|  2016-08-22|   1869|Spanish Primera D...|           Valencia|     Las Palmas|              77.23|               62.9|         0.6235|         0.1562| 0.2202|               2|               4|\n",
            "|     2016|  2016-08-26|   1845|   German Bundesliga|      Bayern Munich|  Werder Bremen|              93.89|              64.54|         0.9443|         0.0098| 0.0459|               6|               0|\n",
            "|     2016|  2016-08-27|   2411|Barclays Premier ...|  Tottenham Hotspur|      Liverpool|              73.71|              78.14|         0.3967|         0.3444| 0.2589|               1|               1|\n",
            "|     2016|  2016-08-27|   1845|   German Bundesliga|  Borussia Dortmund|          Mainz|              86.98|              70.03|         0.7775|         0.0683| 0.1543|               2|               1|\n",
            "|     2016|  2016-08-27|   2411|Barclays Premier ...|            Chelsea|        Burnley|              80.86|              58.66|         0.7139|         0.0914| 0.1947|               3|               0|\n",
            "+---------+------------+-------+--------------------+-------------------+---------------+-------------------+-------------------+---------------+---------------+-------+----------------+----------------+\n",
            "only showing top 20 rows\n",
            "\n"
          ]
        }
      ]
    },
    {
      "cell_type": "code",
      "source": [
        "# Mostrando todos os jogos da liga Barclays Premier\n",
        "\n",
        "df_ranking_soccer.where(\"Liga like 'Barclays Premier %'\").show()"
      ],
      "metadata": {
        "colab": {
          "base_uri": "https://localhost:8080/"
        },
        "id": "5x4Aqz0ECal1",
        "outputId": "ea4b1918-c9b5-4e0e-d186-9c50945dad8f"
      },
      "execution_count": null,
      "outputs": [
        {
          "output_type": "stream",
          "name": "stdout",
          "text": [
            "+---------+------------+-------+--------------------+--------------------+--------------------+-------------------+-------------------+---------------+---------------+-------+----------------+----------------+\n",
            "|Temporada|Data_Partida|Id_Liga|                Liga|           Time_Casa|      Time_Visitante|Classificacao_Tcasa|Classificacao_Tvis.|Prob_vitoria_T1|Prob_vitoria_T2|probtie|Gols_Marcados_T1|Gols_Marcados_T2|\n",
            "+---------+------------+-------+--------------------+--------------------+--------------------+-------------------+-------------------+---------------+---------------+-------+----------------+----------------+\n",
            "|     2016|  2016-08-13|   2411|Barclays Premier ...|           Hull City|      Leicester City|              53.57|              66.81|         0.3459|         0.3621| 0.2921|               2|               1|\n",
            "|     2016|  2016-08-13|   2411|Barclays Premier ...|             Everton|   Tottenham Hotspur|              68.02|              73.25|          0.391|         0.3401| 0.2689|               1|               1|\n",
            "|     2016|  2016-08-13|   2411|Barclays Premier ...|      Crystal Palace|West Bromwich Albion|              55.19|              58.66|         0.4214|         0.2939| 0.2847|               0|               1|\n",
            "|     2016|  2016-08-13|   2411|Barclays Premier ...|       Middlesbrough|          Stoke City|              56.32|              60.35|          0.438|         0.2692| 0.2927|               1|               1|\n",
            "|     2016|  2016-08-13|   2411|Barclays Premier ...|         Southampton|             Watford|              69.49|              59.33|         0.5759|         0.1874| 0.2367|               1|               1|\n",
            "|     2016|  2016-08-13|   2411|Barclays Premier ...|             Burnley|        Swansea City|              58.98|              59.74|         0.4482|         0.2663| 0.2854|               0|               1|\n",
            "|     2016|  2016-08-13|   2411|Barclays Premier ...|     Manchester City|          Sunderland|              86.42|              53.64|         0.8152|         0.0525| 0.1323|               2|               1|\n",
            "|     2016|  2016-08-14|   2411|Barclays Premier ...|     AFC Bournemouth|   Manchester United|              61.57|              80.49|         0.2111|         0.5461| 0.2428|               1|               3|\n",
            "|     2016|  2016-08-14|   2411|Barclays Premier ...|             Arsenal|           Liverpool|              82.55|              77.44|         0.5551|         0.2115| 0.2334|               3|               4|\n",
            "|     2016|  2016-08-15|   2411|Barclays Premier ...|             Chelsea|     West Ham United|               80.7|              63.27|         0.6908|         0.1177| 0.1915|               2|               1|\n",
            "|     2016|  2016-08-19|   2411|Barclays Premier ...|   Manchester United|         Southampton|              81.05|              69.22|         0.6197|         0.1494| 0.2309|               2|               0|\n",
            "|     2016|  2016-08-20|   2411|Barclays Premier ...|          Stoke City|     Manchester City|              60.42|              85.71|         0.1278|          0.672| 0.2002|               1|               4|\n",
            "|     2016|  2016-08-20|   2411|Barclays Premier ...|             Burnley|           Liverpool|              57.85|              78.87|         0.2079|          0.552| 0.2402|               2|               0|\n",
            "|     2016|  2016-08-20|   2411|Barclays Premier ...|   Tottenham Hotspur|      Crystal Palace|              73.64|              54.21|         0.6638|          0.119| 0.2172|               1|               0|\n",
            "|     2016|  2016-08-20|   2411|Barclays Premier ...|             Watford|             Chelsea|              59.57|              80.51|         0.1955|         0.5783| 0.2262|               1|               2|\n",
            "|     2016|  2016-08-20|   2411|Barclays Premier ...|        Swansea City|           Hull City|              60.87|              53.47|         0.4993|         0.2171| 0.2836|               0|               2|\n",
            "|     2016|  2016-08-20|   2411|Barclays Premier ...|West Bromwich Albion|             Everton|              59.64|              67.51|         0.3696|         0.3491| 0.2814|               1|               2|\n",
            "|     2016|  2016-08-20|   2411|Barclays Premier ...|      Leicester City|             Arsenal|              66.93|              81.57|         0.2505|         0.5056| 0.2439|               0|               0|\n",
            "|     2016|  2016-08-21|   2411|Barclays Premier ...|          Sunderland|       Middlesbrough|              54.83|              56.24|         0.4393|         0.2722| 0.2885|               1|               2|\n",
            "|     2016|  2016-08-21|   2411|Barclays Premier ...|     West Ham United|     AFC Bournemouth|              63.46|              60.82|         0.4867|         0.2569| 0.2564|               1|               0|\n",
            "+---------+------------+-------+--------------------+--------------------+--------------------+-------------------+-------------------+---------------+---------------+-------+----------------+----------------+\n",
            "only showing top 20 rows\n",
            "\n"
          ]
        }
      ]
    },
    {
      "cell_type": "code",
      "source": [
        "# Contando quantos jogos teve na Barcleys Premier League\n",
        "\n",
        "df_ranking_soccer.where(\"Liga like 'Barclays Premier %'\").show()\n",
        "barclays_league = df_ranking_soccer.where(\"Liga like 'Barclays Premier %'\")\n",
        "barclays_league.count()"
      ],
      "metadata": {
        "colab": {
          "base_uri": "https://localhost:8080/"
        },
        "id": "CjsDCiFEJ6OL",
        "outputId": "dd79a1f9-88ac-4716-c851-acca8316925a"
      },
      "execution_count": null,
      "outputs": [
        {
          "output_type": "stream",
          "name": "stdout",
          "text": [
            "+---------+------------+-------+--------------------+--------------------+--------------------+-------------------+-------------------+---------------+---------------+-------+----------------+----------------+\n",
            "|Temporada|Data_Partida|Id_Liga|                Liga|           Time_Casa|      Time_Visitante|Classificacao_Tcasa|Classificacao_Tvis.|Prob_vitoria_T1|Prob_vitoria_T2|probtie|Gols_Marcados_T1|Gols_Marcados_T2|\n",
            "+---------+------------+-------+--------------------+--------------------+--------------------+-------------------+-------------------+---------------+---------------+-------+----------------+----------------+\n",
            "|     2016|  2016-08-13|   2411|Barclays Premier ...|           Hull City|      Leicester City|              53.57|              66.81|         0.3459|         0.3621| 0.2921|               2|               1|\n",
            "|     2016|  2016-08-13|   2411|Barclays Premier ...|             Everton|   Tottenham Hotspur|              68.02|              73.25|          0.391|         0.3401| 0.2689|               1|               1|\n",
            "|     2016|  2016-08-13|   2411|Barclays Premier ...|      Crystal Palace|West Bromwich Albion|              55.19|              58.66|         0.4214|         0.2939| 0.2847|               0|               1|\n",
            "|     2016|  2016-08-13|   2411|Barclays Premier ...|       Middlesbrough|          Stoke City|              56.32|              60.35|          0.438|         0.2692| 0.2927|               1|               1|\n",
            "|     2016|  2016-08-13|   2411|Barclays Premier ...|         Southampton|             Watford|              69.49|              59.33|         0.5759|         0.1874| 0.2367|               1|               1|\n",
            "|     2016|  2016-08-13|   2411|Barclays Premier ...|             Burnley|        Swansea City|              58.98|              59.74|         0.4482|         0.2663| 0.2854|               0|               1|\n",
            "|     2016|  2016-08-13|   2411|Barclays Premier ...|     Manchester City|          Sunderland|              86.42|              53.64|         0.8152|         0.0525| 0.1323|               2|               1|\n",
            "|     2016|  2016-08-14|   2411|Barclays Premier ...|     AFC Bournemouth|   Manchester United|              61.57|              80.49|         0.2111|         0.5461| 0.2428|               1|               3|\n",
            "|     2016|  2016-08-14|   2411|Barclays Premier ...|             Arsenal|           Liverpool|              82.55|              77.44|         0.5551|         0.2115| 0.2334|               3|               4|\n",
            "|     2016|  2016-08-15|   2411|Barclays Premier ...|             Chelsea|     West Ham United|               80.7|              63.27|         0.6908|         0.1177| 0.1915|               2|               1|\n",
            "|     2016|  2016-08-19|   2411|Barclays Premier ...|   Manchester United|         Southampton|              81.05|              69.22|         0.6197|         0.1494| 0.2309|               2|               0|\n",
            "|     2016|  2016-08-20|   2411|Barclays Premier ...|          Stoke City|     Manchester City|              60.42|              85.71|         0.1278|          0.672| 0.2002|               1|               4|\n",
            "|     2016|  2016-08-20|   2411|Barclays Premier ...|             Burnley|           Liverpool|              57.85|              78.87|         0.2079|          0.552| 0.2402|               2|               0|\n",
            "|     2016|  2016-08-20|   2411|Barclays Premier ...|   Tottenham Hotspur|      Crystal Palace|              73.64|              54.21|         0.6638|          0.119| 0.2172|               1|               0|\n",
            "|     2016|  2016-08-20|   2411|Barclays Premier ...|             Watford|             Chelsea|              59.57|              80.51|         0.1955|         0.5783| 0.2262|               1|               2|\n",
            "|     2016|  2016-08-20|   2411|Barclays Premier ...|        Swansea City|           Hull City|              60.87|              53.47|         0.4993|         0.2171| 0.2836|               0|               2|\n",
            "|     2016|  2016-08-20|   2411|Barclays Premier ...|West Bromwich Albion|             Everton|              59.64|              67.51|         0.3696|         0.3491| 0.2814|               1|               2|\n",
            "|     2016|  2016-08-20|   2411|Barclays Premier ...|      Leicester City|             Arsenal|              66.93|              81.57|         0.2505|         0.5056| 0.2439|               0|               0|\n",
            "|     2016|  2016-08-21|   2411|Barclays Premier ...|          Sunderland|       Middlesbrough|              54.83|              56.24|         0.4393|         0.2722| 0.2885|               1|               2|\n",
            "|     2016|  2016-08-21|   2411|Barclays Premier ...|     West Ham United|     AFC Bournemouth|              63.46|              60.82|         0.4867|         0.2569| 0.2564|               1|               0|\n",
            "+---------+------------+-------+--------------------+--------------------+--------------------+-------------------+-------------------+---------------+---------------+-------+----------------+----------------+\n",
            "only showing top 20 rows\n",
            "\n"
          ]
        },
        {
          "output_type": "execute_result",
          "data": {
            "text/plain": [
              "2660"
            ]
          },
          "metadata": {},
          "execution_count": 20
        }
      ]
    },
    {
      "cell_type": "code",
      "source": [
        "# Mostrando a media de gols por partida do time visitantes e colocando em um novo dataframe\n",
        "\n",
        "media_gols_visitantes = df_ranking_soccer.groupBy(\"Time_Visitante\").agg(\n",
        "        f.mean(\"Gols_Marcados_T2\").alias(\"Media_Gols_Partidas\")\n",
        ").orderBy(\"Media_Gols_Partidas\", ascending=False)\n",
        "\n",
        "media_gols_visitantes = media_gols_visitantes.withColumn(\n",
        "    \"Media_Gols_Partidas\", f.round(\"Media_Gols_Partidas\", 2)\n",
        ")\n",
        "\n",
        "media_gols_visitantes.show()"
      ],
      "metadata": {
        "colab": {
          "base_uri": "https://localhost:8080/"
        },
        "id": "dQOGn5d_Q5u1",
        "outputId": "915e54d6-e603-459c-c5af-47848726e357"
      },
      "execution_count": null,
      "outputs": [
        {
          "output_type": "stream",
          "name": "stdout",
          "text": [
            "+--------------------+-------------------+\n",
            "|      Time_Visitante|Media_Gols_Partidas|\n",
            "+--------------------+-------------------+\n",
            "|Guangzhou Evergrande|               2.72|\n",
            "|    Chelsea FC Women|               2.63|\n",
            "|       Arsenal Women|               2.61|\n",
            "|                Ajax|               2.42|\n",
            "|Manchester City W...|               2.41|\n",
            "|       Bayern Munich|               2.39|\n",
            "|Union Saint Gilloise|               2.18|\n",
            "| Paris Saint-Germain|               2.17|\n",
            "|         FC Salzburg|               2.17|\n",
            "|     Manchester City|               2.09|\n",
            "|             Benfica|               2.02|\n",
            "|                 PSV|                2.0|\n",
            "|            Ballkani|                2.0|\n",
            "|         Real Madrid|               1.98|\n",
            "|           Liverpool|               1.98|\n",
            "|              Celtic|               1.96|\n",
            "|             Rangers|               1.94|\n",
            "|           Barcelona|               1.91|\n",
            "|   Kawasaki Frontale|               1.91|\n",
            "|           Feyenoord|                1.9|\n",
            "+--------------------+-------------------+\n",
            "only showing top 20 rows\n",
            "\n"
          ]
        }
      ]
    },
    {
      "cell_type": "code",
      "source": [
        "# Mostrado a media de gols por partida do time da casa e colocando em um novo dataframe\n",
        "\n",
        "media_gols_casa = df_ranking_soccer.groupBy(\"Time_Casa\").agg(\n",
        "        f.mean(\"Gols_Marcados_T1\").alias(\"Media_Gols_Partidas\")\n",
        ").orderBy(\"Media_Gols_Partidas\", ascending=False)\n",
        "\n",
        "media_gols_casa = media_gols_casa.withColumn(\n",
        "    \"Media_Gols_Partidas\", f.round(\"Media_Gols_Partidas\", 2)\n",
        ")\n",
        "\n",
        "media_gols_casa.show()"
      ],
      "metadata": {
        "colab": {
          "base_uri": "https://localhost:8080/"
        },
        "id": "XU3s9GXgGHQX",
        "outputId": "3c67c618-9544-4f6c-dfc6-e0ef183605fc"
      },
      "execution_count": null,
      "outputs": [
        {
          "output_type": "stream",
          "name": "stdout",
          "text": [
            "+--------------------+-------------------+\n",
            "|           Time_Casa|Media_Gols_Partidas|\n",
            "+--------------------+-------------------+\n",
            "|       Bayern Munich|               3.11|\n",
            "|                Ajax|               2.93|\n",
            "|    Chelsea FC Women|               2.86|\n",
            "|Manchester City W...|               2.83|\n",
            "|     Manchester City|                2.8|\n",
            "|       Arsenal Women|               2.79|\n",
            "| Paris Saint-Germain|               2.73|\n",
            "|       Shanghai SIPG|               2.71|\n",
            "|          Bodo/Glimt|               2.64|\n",
            "|                 PSV|               2.63|\n",
            "| Zenit St Petersburg|               2.62|\n",
            "|Manchester United...|                2.6|\n",
            "|         FC Salzburg|                2.6|\n",
            "|   Borussia Dortmund|               2.58|\n",
            "|   St. Louis CITY SC|               2.56|\n",
            "|               Molde|               2.52|\n",
            "|           Barcelona|               2.52|\n",
            "|       Beijing Guoan|               2.52|\n",
            "|          Young Boys|               2.52|\n",
            "|Guangzhou Evergrande|               2.45|\n",
            "+--------------------+-------------------+\n",
            "only showing top 20 rows\n",
            "\n"
          ]
        }
      ]
    },
    {
      "cell_type": "code",
      "source": [
        "# 5 – Com alguma das consultas da atividade 4 crie um novo DataFrame e salve-o em formato .csv e em formato .orc.\n",
        "\n",
        "media_gols_casa.write.csv(\"/content/drive/MyDrive/BasesSpark/soccer-spi/soccer-spi/jogos_Barclays_League.csv\", header=True, mode=\"overwrite\")\n",
        "media_gols_casa.write.orc(\"/content/drive/MyDrive/BasesSpark/soccer-spi/soccer-spi/jogos_Barclays_League.csv\", mode=\"overwrite\")"
      ],
      "metadata": {
        "id": "WAl9j3HYKw6o"
      },
      "execution_count": null,
      "outputs": []
    },
    {
      "cell_type": "code",
      "source": [],
      "metadata": {
        "id": "2xrlsUTtMGXS"
      },
      "execution_count": null,
      "outputs": []
    }
  ]
}