{
  "nbformat": 4,
  "nbformat_minor": 0,
  "metadata": {
    "colab": {
      "provenance": [],
      "mount_file_id": "1ibWbeUMJOs1daEI23v6ZsH_9tt-iPmXG",
      "authorship_tag": "ABX9TyOLEQNupOxk4rsnma64PgaB",
      "include_colab_link": true
    },
    "kernelspec": {
      "name": "python3",
      "display_name": "Python 3"
    },
    "language_info": {
      "name": "python"
    }
  },
  "cells": [
    {
      "cell_type": "markdown",
      "metadata": {
        "id": "view-in-github",
        "colab_type": "text"
      },
      "source": [
        "<a href=\"https://colab.research.google.com/github/AlexSan1910/Tratamento_De_Dados_PySpark/blob/main/PySpark_S3.ipynb\" target=\"_parent\"><img src=\"https://colab.research.google.com/assets/colab-badge.svg\" alt=\"Open In Colab\"/></a>"
      ]
    },
    {
      "cell_type": "code",
      "execution_count": null,
      "metadata": {
        "colab": {
          "base_uri": "https://localhost:8080/"
        },
        "id": "9m0mPmo-JYzs",
        "outputId": "36f925aa-b0f2-4099-bc68-218988b74b0f"
      },
      "outputs": [
        {
          "output_type": "execute_result",
          "data": {
            "text/plain": [
              "1000000000000000"
            ]
          },
          "metadata": {},
          "execution_count": 48
        }
      ],
      "source": [
        "a = 10\n",
        "b = 15\n",
        "c = a ** b\n",
        "c"
      ]
    },
    {
      "cell_type": "code",
      "source": [
        "c - 1000000000"
      ],
      "metadata": {
        "colab": {
          "base_uri": "https://localhost:8080/"
        },
        "id": "05qqWx26KfR4",
        "outputId": "950a238d-6bce-4a27-d334-6881ebc9a71d"
      },
      "execution_count": null,
      "outputs": [
        {
          "output_type": "execute_result",
          "data": {
            "text/plain": [
              "999999000000000"
            ]
          },
          "metadata": {},
          "execution_count": 49
        }
      ]
    },
    {
      "cell_type": "code",
      "source": [
        "# criando ambiente spark:\n",
        "\n",
        "# ! = comumente utilizado para gerar comandos no sistema operacional e não um comando python\n",
        "\n",
        "# Instalando o Pyspark\n",
        "\n",
        "!pip install Pyspark"
      ],
      "metadata": {
        "colab": {
          "base_uri": "https://localhost:8080/"
        },
        "id": "LsNmNIyaKuvi",
        "outputId": "4c7e4dd7-e206-412f-d642-7b20181f3b3d"
      },
      "execution_count": null,
      "outputs": [
        {
          "output_type": "stream",
          "name": "stdout",
          "text": [
            "Requirement already satisfied: Pyspark in /usr/local/lib/python3.10/dist-packages (3.5.0)\n",
            "Requirement already satisfied: py4j==0.10.9.7 in /usr/local/lib/python3.10/dist-packages (from Pyspark) (0.10.9.7)\n"
          ]
        }
      ]
    },
    {
      "cell_type": "code",
      "source": [
        "# Importando biblioteca pyspark\n",
        "\n",
        "from pyspark.sql import SparkSession\n",
        "from pyspark.sql import functions as f\n",
        "\n",
        "spark = SparkSession.builder.appName(\"SENAI\").getOrCreate()"
      ],
      "metadata": {
        "id": "xjGRCABoLbTu"
      },
      "execution_count": null,
      "outputs": []
    },
    {
      "cell_type": "code",
      "source": [
        "# Criando um DataFrame normalmente atraves de listas:\n",
        "\n",
        "dados = [\n",
        "    (\"joao\", 25, \"Analista\", 3800),\n",
        "    (\"maria\", 38, \"Analista\", 5500),\n",
        "    (\"marcos\", 22, \"Estagiario\", 1000),\n",
        "    (\"fabio\", 35, \"Assistente\", 2500),\n",
        "    (\"luis\", 40, \"Gerente\", 11700),\n",
        "    (\"ana\", 39, \"Gerente\", 15900)\n",
        "]"
      ],
      "metadata": {
        "id": "7EV157o2PhNR"
      },
      "execution_count": null,
      "outputs": []
    },
    {
      "cell_type": "code",
      "source": [
        "# Cabeçalho (Header):\n",
        "\n",
        "colunas = [\"nome\", \"idade\", \"cargo\", \"salario\"]"
      ],
      "metadata": {
        "id": "X3b5U4q1QZ2b"
      },
      "execution_count": null,
      "outputs": []
    },
    {
      "cell_type": "code",
      "source": [
        "# Criando o DataFrame Spark:\n",
        "\n",
        "df = spark.createDataFrame(dados, colunas)"
      ],
      "metadata": {
        "id": "H1izvrI4WeDF"
      },
      "execution_count": null,
      "outputs": []
    },
    {
      "cell_type": "code",
      "source": [
        "# Exibindo informações do DataFrame\n",
        "df.show()"
      ],
      "metadata": {
        "colab": {
          "base_uri": "https://localhost:8080/"
        },
        "id": "xgesVKxaWp0k",
        "outputId": "29a0c92f-7c41-4636-d45b-d8900a237286"
      },
      "execution_count": null,
      "outputs": [
        {
          "output_type": "stream",
          "name": "stdout",
          "text": [
            "+------+-----+----------+-------+\n",
            "|  nome|idade|     cargo|salario|\n",
            "+------+-----+----------+-------+\n",
            "|  joao|   25|  Analista|   3800|\n",
            "| maria|   38|  Analista|   5500|\n",
            "|marcos|   22|Estagiario|   1000|\n",
            "| fabio|   35|Assistente|   2500|\n",
            "|  luis|   40|   Gerente|  11700|\n",
            "|   ana|   39|   Gerente|  15900|\n",
            "+------+-----+----------+-------+\n",
            "\n"
          ]
        }
      ]
    },
    {
      "cell_type": "code",
      "source": [
        "df.show(5)"
      ],
      "metadata": {
        "colab": {
          "base_uri": "https://localhost:8080/"
        },
        "id": "DxSOL2XGYOJK",
        "outputId": "bf64e94c-499b-4fce-ca55-fe188f5e33aa"
      },
      "execution_count": null,
      "outputs": [
        {
          "output_type": "stream",
          "name": "stdout",
          "text": [
            "+------+-----+----------+-------+\n",
            "|  nome|idade|     cargo|salario|\n",
            "+------+-----+----------+-------+\n",
            "|  joao|   25|  Analista|   3800|\n",
            "| maria|   38|  Analista|   5500|\n",
            "|marcos|   22|Estagiario|   1000|\n",
            "| fabio|   35|Assistente|   2500|\n",
            "|  luis|   40|   Gerente|  11700|\n",
            "+------+-----+----------+-------+\n",
            "only showing top 5 rows\n",
            "\n"
          ]
        }
      ]
    },
    {
      "cell_type": "code",
      "source": [
        "# Verificando colunas e tipos de dados das colunas:\n",
        "\n",
        "df.printSchema()"
      ],
      "metadata": {
        "colab": {
          "base_uri": "https://localhost:8080/"
        },
        "id": "lDthwM_iYmR3",
        "outputId": "8ca93f62-cf9f-48c5-9a25-074447e22e06"
      },
      "execution_count": null,
      "outputs": [
        {
          "output_type": "stream",
          "name": "stdout",
          "text": [
            "root\n",
            " |-- nome: string (nullable = true)\n",
            " |-- idade: long (nullable = true)\n",
            " |-- cargo: string (nullable = true)\n",
            " |-- salario: long (nullable = true)\n",
            "\n"
          ]
        }
      ]
    },
    {
      "cell_type": "code",
      "source": [
        "# filtrar elementos do DataFrame:\n",
        "\n",
        "df.where(\"cargo == 'Gerente'\").show()"
      ],
      "metadata": {
        "colab": {
          "base_uri": "https://localhost:8080/"
        },
        "id": "BhlmbiIvYsim",
        "outputId": "1d6836d5-0d58-4ebb-da67-559829850362"
      },
      "execution_count": null,
      "outputs": [
        {
          "output_type": "stream",
          "name": "stdout",
          "text": [
            "+----+-----+-------+-------+\n",
            "|nome|idade|  cargo|salario|\n",
            "+----+-----+-------+-------+\n",
            "|luis|   40|Gerente|  11700|\n",
            "| ana|   39|Gerente|  15900|\n",
            "+----+-----+-------+-------+\n",
            "\n"
          ]
        }
      ]
    },
    {
      "cell_type": "code",
      "source": [
        "# Filtre apenas o funcionarios que ganham menos de 3000 reais:\n",
        "\n",
        "df.where(\"salario <= '3000'\").show()"
      ],
      "metadata": {
        "colab": {
          "base_uri": "https://localhost:8080/"
        },
        "id": "vrE_-x1bZdOr",
        "outputId": "50301942-e7c5-4c97-819b-2d4c6a1e649a"
      },
      "execution_count": null,
      "outputs": [
        {
          "output_type": "stream",
          "name": "stdout",
          "text": [
            "+------+-----+----------+-------+\n",
            "|  nome|idade|     cargo|salario|\n",
            "+------+-----+----------+-------+\n",
            "|marcos|   22|Estagiario|   1000|\n",
            "| fabio|   35|Assistente|   2500|\n",
            "+------+-----+----------+-------+\n",
            "\n"
          ]
        }
      ]
    },
    {
      "cell_type": "code",
      "source": [
        "# segunda base de dados.\n",
        "\n",
        "dados = [\n",
        "    (\"luciana\", 22, \"Assistente\", 2700),\n",
        "    (\"carlos\", 28, \"Analista\", 5500)\n",
        "]"
      ],
      "metadata": {
        "id": "2J35UiOMZskn"
      },
      "execution_count": null,
      "outputs": []
    },
    {
      "cell_type": "code",
      "source": [
        "df2 = spark.createDataFrame(dados, colunas)"
      ],
      "metadata": {
        "id": "UtDfeDyVbmr7"
      },
      "execution_count": null,
      "outputs": []
    },
    {
      "cell_type": "code",
      "source": [
        "df2.show()"
      ],
      "metadata": {
        "colab": {
          "base_uri": "https://localhost:8080/"
        },
        "id": "LwN2BcFWckH1",
        "outputId": "968a6693-1803-4017-8922-65e89abc42bd"
      },
      "execution_count": null,
      "outputs": [
        {
          "output_type": "stream",
          "name": "stdout",
          "text": [
            "+-------+-----+----------+-------+\n",
            "|   nome|idade|     cargo|salario|\n",
            "+-------+-----+----------+-------+\n",
            "|luciana|   22|Assistente|   2700|\n",
            "| carlos|   28|  Analista|   5500|\n",
            "+-------+-----+----------+-------+\n",
            "\n"
          ]
        }
      ]
    },
    {
      "cell_type": "code",
      "source": [
        "# Mesclando dois DataFrames:\n",
        "# basicamente para isso uso o comando union e instancio nesse comando o df2\n",
        "\n",
        "df = df.union(df2)"
      ],
      "metadata": {
        "id": "yZD2sQhBco0l"
      },
      "execution_count": null,
      "outputs": []
    },
    {
      "cell_type": "code",
      "source": [
        "df.show()"
      ],
      "metadata": {
        "colab": {
          "base_uri": "https://localhost:8080/"
        },
        "id": "etd1dPKPc0NT",
        "outputId": "771488e8-7e76-4042-8d0b-bfc72289f28f"
      },
      "execution_count": null,
      "outputs": [
        {
          "output_type": "stream",
          "name": "stdout",
          "text": [
            "+-------+-----+----------+-------+\n",
            "|   nome|idade|     cargo|salario|\n",
            "+-------+-----+----------+-------+\n",
            "|   joao|   25|  Analista|   3800|\n",
            "|  maria|   38|  Analista|   5500|\n",
            "| marcos|   22|Estagiario|   1000|\n",
            "|  fabio|   35|Assistente|   2500|\n",
            "|   luis|   40|   Gerente|  11700|\n",
            "|    ana|   39|   Gerente|  15900|\n",
            "|luciana|   22|Assistente|   2700|\n",
            "| carlos|   28|  Analista|   5500|\n",
            "+-------+-----+----------+-------+\n",
            "\n"
          ]
        }
      ]
    },
    {
      "cell_type": "code",
      "source": [
        "# Realizando algumas analises:\n",
        "\n",
        "# Mostre a media salarial dos analistas dessa empresa:\n",
        "\n",
        "df.where(\"cargo == 'Analista'\").agg(\n",
        "    f.mean(\"salario\").alias(\"media_salario\"),\n",
        "    f.sum(\"salario\").alias(\"soma_salario\")\n",
        ").show()"
      ],
      "metadata": {
        "colab": {
          "base_uri": "https://localhost:8080/"
        },
        "id": "3kWj07wCdMy6",
        "outputId": "f5528cba-e5c4-43ea-9fc0-4db179891565"
      },
      "execution_count": null,
      "outputs": [
        {
          "output_type": "stream",
          "name": "stdout",
          "text": [
            "+-----------------+------------+\n",
            "|    media_salario|soma_salario|\n",
            "+-----------------+------------+\n",
            "|4933.333333333333|       14800|\n",
            "+-----------------+------------+\n",
            "\n"
          ]
        }
      ]
    },
    {
      "cell_type": "code",
      "source": [
        "# Importando arquivos para o Spark:\n",
        "# \"part*\" no final do caminho da pasta do google drive, subir todos os arquivos que iniciem com part\n",
        "url = \"/content/drive/MyDrive/BasesSpark/empresas/part*\"\n",
        "\n",
        "# header=True significa que existe um cabeçalho nesse arquivo jque é a primeira linha.\n",
        "\n",
        "empresas = spark.read.options(header=True).csv(\n",
        "    url,\n",
        "    sep=\";\", # Indentificar qual o parametro que separa as colunas.\n",
        "    inferSchema=True # verificar a estrutra do arquivo e trás o arquivo com cada coluna com seu repectivo tipo, se não fizermos isso trará os dados tudo em string\n",
        ")"
      ],
      "metadata": {
        "id": "M0UD_lDVdf0w"
      },
      "execution_count": null,
      "outputs": []
    },
    {
      "cell_type": "code",
      "source": [
        "empresas.count()"
      ],
      "metadata": {
        "colab": {
          "base_uri": "https://localhost:8080/"
        },
        "id": "OYsDz-nVinXD",
        "outputId": "46fe3567-ecc1-49dc-d585-48c44ca28fbc"
      },
      "execution_count": null,
      "outputs": [
        {
          "output_type": "execute_result",
          "data": {
            "text/plain": [
              "4585679"
            ]
          },
          "metadata": {},
          "execution_count": 67
        }
      ]
    },
    {
      "cell_type": "code",
      "source": [
        "empresas.show()"
      ],
      "metadata": {
        "colab": {
          "base_uri": "https://localhost:8080/"
        },
        "id": "HbVR8m1s06bC",
        "outputId": "c15adf03-536c-4f87-e739-d6eff26fea03"
      },
      "execution_count": null,
      "outputs": [
        {
          "output_type": "stream",
          "name": "stdout",
          "text": [
            "+-----+--------------------+-----------------+------------------------+--------------+-----+---------------+\n",
            "| cnpj|        razao_social|natureza_juridica|qualificacao_responsavel|capital_social|porte|ente_federativo|\n",
            "+-----+--------------------+-----------------+------------------------+--------------+-----+---------------+\n",
            "|  306|FRANCAMAR REFRIGE...|             2240|                      49|          0,00|    1|           NULL|\n",
            "| 1355|BRASILEIRO & OLIV...|             2062|                      49|          0,00|    5|           NULL|\n",
            "| 4820|REGISTRO DE IMOVE...|             3034|                      32|          0,00|    5|           NULL|\n",
            "| 5347|ROSELY APARECIDA ...|             2135|                      50|          0,00|    5|           NULL|\n",
            "| 6846|BADU E FILHOS TEC...|             2062|                      49|       4000,00|    1|           NULL|\n",
            "| 8416|  ELETRICA RUBI LTDA|             2062|                      49|          0,00|    5|           NULL|\n",
            "| 8992|SHIROMA VEICULOS ...|             2062|                      49|          0,00|    5|           NULL|\n",
            "| 9091|CONTATOS BAR E LA...|             2062|                      49|          0,00|    5|           NULL|\n",
            "| 9614|ANTONIA APARECIDA...|             2135|                      50|          0,00|    5|           NULL|\n",
            "| 9896|DORACY CORAT DA C...|             2135|                      50|          0,00|    5|           NULL|\n",
            "|12112|LANCHONETE RIO VE...|             2062|                      49|          0,00|    5|           NULL|\n",
            "|12605|VALMAR JACAREI CO...|             2062|                      49|          0,00|    5|           NULL|\n",
            "|13407|ROSANA CRISTINA D...|             2135|                      50|          0,00|    5|           NULL|\n",
            "|13408|CELIO RODRIGUES D...|             2135|                      50|          0,00|    5|           NULL|\n",
            "|13721|MAQFRAN COMERCIO ...|             2062|                      49|          0,00|    1|           NULL|\n",
            "|21181|MOURA & SILVA MER...|             2062|                      49|          0,00|    5|           NULL|\n",
            "|21858|PAMARATI COMERCIO...|             2135|                      50|          0,00|    1|           NULL|\n",
            "|22277|INACIO RODRIGUES ...|             2135|                      50|          0,00|    5|           NULL|\n",
            "|24205|SUELY LEME MARI A...|             2135|                      50|       1000,00|    1|           NULL|\n",
            "|26805|SUELI BATISTA DA ...|             2135|                      50|          0,00|    5|           NULL|\n",
            "+-----+--------------------+-----------------+------------------------+--------------+-----+---------------+\n",
            "only showing top 20 rows\n",
            "\n"
          ]
        }
      ]
    },
    {
      "cell_type": "code",
      "source": [
        "# Exibir quantidade de linhas especificas:\n",
        "\n",
        "empresas.show(10, False)"
      ],
      "metadata": {
        "colab": {
          "base_uri": "https://localhost:8080/"
        },
        "id": "DvHUQaGd1Bpf",
        "outputId": "6a4c30f6-b3d6-4a82-fedb-7d9c41a3209d"
      },
      "execution_count": null,
      "outputs": [
        {
          "output_type": "stream",
          "name": "stdout",
          "text": [
            "+----+--------------------------------------------------------------------------------------------+-----------------+------------------------+--------------+-----+---------------+\n",
            "|cnpj|razao_social                                                                                |natureza_juridica|qualificacao_responsavel|capital_social|porte|ente_federativo|\n",
            "+----+--------------------------------------------------------------------------------------------+-----------------+------------------------+--------------+-----+---------------+\n",
            "|306 |FRANCAMAR REFRIGERACAO TECNICA S/C LTDA                                                     |2240             |49                      |0,00          |1    |NULL           |\n",
            "|1355|BRASILEIRO & OLIVEIRA LTDA                                                                  |2062             |49                      |0,00          |5    |NULL           |\n",
            "|4820|REGISTRO DE IMOVEIS, TABELIONATO 1 DE NOTAS E TABELIONATO E REGISTRO DE CONSTRATOS MARITIMOS|3034             |32                      |0,00          |5    |NULL           |\n",
            "|5347|ROSELY APARECIDA MONTEIRO CALTABIANO FREITAS                                                |2135             |50                      |0,00          |5    |NULL           |\n",
            "|6846|BADU E FILHOS TECIDOS LTDA                                                                  |2062             |49                      |4000,00       |1    |NULL           |\n",
            "|8416|ELETRICA RUBI LTDA                                                                          |2062             |49                      |0,00          |5    |NULL           |\n",
            "|8992|SHIROMA VEICULOS LTDA.                                                                      |2062             |49                      |0,00          |5    |NULL           |\n",
            "|9091|CONTATOS BAR E LANCHONETE LTDA                                                              |2062             |49                      |0,00          |5    |NULL           |\n",
            "|9614|ANTONIA APARECIDA DE SOUZA ULIANA                                                           |2135             |50                      |0,00          |5    |NULL           |\n",
            "|9896|DORACY CORAT DA COSTA                                                                       |2135             |50                      |0,00          |5    |NULL           |\n",
            "+----+--------------------------------------------------------------------------------------------+-----------------+------------------------+--------------+-----+---------------+\n",
            "only showing top 10 rows\n",
            "\n"
          ]
        }
      ]
    },
    {
      "cell_type": "code",
      "source": [
        "# Solicitando que traga todas as informações, sem abreviações\n",
        "\n",
        "empresas.show(truncate=False)"
      ],
      "metadata": {
        "colab": {
          "base_uri": "https://localhost:8080/"
        },
        "id": "Ex4XM-oO2XRU",
        "outputId": "6fc19552-f97d-4185-9443-d78d83b4281a"
      },
      "execution_count": null,
      "outputs": [
        {
          "output_type": "stream",
          "name": "stdout",
          "text": [
            "+-----+--------------------------------------------------------------------------------------------+-----------------+------------------------+--------------+-----+---------------+\n",
            "|cnpj |razao_social                                                                                |natureza_juridica|qualificacao_responsavel|capital_social|porte|ente_federativo|\n",
            "+-----+--------------------------------------------------------------------------------------------+-----------------+------------------------+--------------+-----+---------------+\n",
            "|306  |FRANCAMAR REFRIGERACAO TECNICA S/C LTDA                                                     |2240             |49                      |0,00          |1    |NULL           |\n",
            "|1355 |BRASILEIRO & OLIVEIRA LTDA                                                                  |2062             |49                      |0,00          |5    |NULL           |\n",
            "|4820 |REGISTRO DE IMOVEIS, TABELIONATO 1 DE NOTAS E TABELIONATO E REGISTRO DE CONSTRATOS MARITIMOS|3034             |32                      |0,00          |5    |NULL           |\n",
            "|5347 |ROSELY APARECIDA MONTEIRO CALTABIANO FREITAS                                                |2135             |50                      |0,00          |5    |NULL           |\n",
            "|6846 |BADU E FILHOS TECIDOS LTDA                                                                  |2062             |49                      |4000,00       |1    |NULL           |\n",
            "|8416 |ELETRICA RUBI LTDA                                                                          |2062             |49                      |0,00          |5    |NULL           |\n",
            "|8992 |SHIROMA VEICULOS LTDA.                                                                      |2062             |49                      |0,00          |5    |NULL           |\n",
            "|9091 |CONTATOS BAR E LANCHONETE LTDA                                                              |2062             |49                      |0,00          |5    |NULL           |\n",
            "|9614 |ANTONIA APARECIDA DE SOUZA ULIANA                                                           |2135             |50                      |0,00          |5    |NULL           |\n",
            "|9896 |DORACY CORAT DA COSTA                                                                       |2135             |50                      |0,00          |5    |NULL           |\n",
            "|12112|LANCHONETE RIO VERMELHO LTDA                                                                |2062             |49                      |0,00          |5    |NULL           |\n",
            "|12605|VALMAR JACAREI COMERCIO DE PRODUTOS ALIMENTIC LTDA                                          |2062             |49                      |0,00          |5    |NULL           |\n",
            "|13407|ROSANA CRISTINA DUARTE RODRIGUES SERRALHERIA                                                |2135             |50                      |0,00          |5    |NULL           |\n",
            "|13408|CELIO RODRIGUES DE MORAES DEPOSITO DE BANANAS                                               |2135             |50                      |0,00          |5    |NULL           |\n",
            "|13721|MAQFRAN COMERCIO DE PECAS LTDA                                                              |2062             |49                      |0,00          |1    |NULL           |\n",
            "|21181|MOURA & SILVA MERCEARIA LIMITADA                                                            |2062             |49                      |0,00          |5    |NULL           |\n",
            "|21858|PAMARATI COMERCIO DE RACOES LTDA                                                            |2135             |50                      |0,00          |1    |NULL           |\n",
            "|22277|INACIO RODRIGUES DO NASCIMENTO                                                              |2135             |50                      |0,00          |5    |NULL           |\n",
            "|24205|SUELY LEME MARI ANI 25086572800                                                             |2135             |50                      |1000,00       |1    |NULL           |\n",
            "|26805|SUELI BATISTA DA COSTA SILVA                                                                |2135             |50                      |0,00          |5    |NULL           |\n",
            "+-----+--------------------------------------------------------------------------------------------+-----------------+------------------------+--------------+-----+---------------+\n",
            "only showing top 20 rows\n",
            "\n"
          ]
        }
      ]
    },
    {
      "cell_type": "code",
      "source": [
        "# Testando a alteração e visualizando.\n",
        "\n",
        "empresas.withColumnsRenamed({\n",
        "    \"razao_social\":\"nome_empresa\", # Colocar primeiro o nome anterior e depois o nome que deseja\n",
        "    \"qualificacao_responsavel\" : \"q_resp\",\n",
        "    \"capital_social\":\"valor_investido\"\n",
        "}).show()"
      ],
      "metadata": {
        "colab": {
          "base_uri": "https://localhost:8080/"
        },
        "id": "OH5j52Dn4Iz9",
        "outputId": "c0574105-2b22-4d13-856b-43c50b9d6cdc"
      },
      "execution_count": null,
      "outputs": [
        {
          "output_type": "stream",
          "name": "stdout",
          "text": [
            "+-----+--------------------+-----------------+------+---------------+-----+---------------+\n",
            "| cnpj|        nome_empresa|natureza_juridica|q_resp|valor_investido|porte|ente_federativo|\n",
            "+-----+--------------------+-----------------+------+---------------+-----+---------------+\n",
            "|  306|FRANCAMAR REFRIGE...|             2240|    49|           0,00|    1|           NULL|\n",
            "| 1355|BRASILEIRO & OLIV...|             2062|    49|           0,00|    5|           NULL|\n",
            "| 4820|REGISTRO DE IMOVE...|             3034|    32|           0,00|    5|           NULL|\n",
            "| 5347|ROSELY APARECIDA ...|             2135|    50|           0,00|    5|           NULL|\n",
            "| 6846|BADU E FILHOS TEC...|             2062|    49|        4000,00|    1|           NULL|\n",
            "| 8416|  ELETRICA RUBI LTDA|             2062|    49|           0,00|    5|           NULL|\n",
            "| 8992|SHIROMA VEICULOS ...|             2062|    49|           0,00|    5|           NULL|\n",
            "| 9091|CONTATOS BAR E LA...|             2062|    49|           0,00|    5|           NULL|\n",
            "| 9614|ANTONIA APARECIDA...|             2135|    50|           0,00|    5|           NULL|\n",
            "| 9896|DORACY CORAT DA C...|             2135|    50|           0,00|    5|           NULL|\n",
            "|12112|LANCHONETE RIO VE...|             2062|    49|           0,00|    5|           NULL|\n",
            "|12605|VALMAR JACAREI CO...|             2062|    49|           0,00|    5|           NULL|\n",
            "|13407|ROSANA CRISTINA D...|             2135|    50|           0,00|    5|           NULL|\n",
            "|13408|CELIO RODRIGUES D...|             2135|    50|           0,00|    5|           NULL|\n",
            "|13721|MAQFRAN COMERCIO ...|             2062|    49|           0,00|    1|           NULL|\n",
            "|21181|MOURA & SILVA MER...|             2062|    49|           0,00|    5|           NULL|\n",
            "|21858|PAMARATI COMERCIO...|             2135|    50|           0,00|    1|           NULL|\n",
            "|22277|INACIO RODRIGUES ...|             2135|    50|           0,00|    5|           NULL|\n",
            "|24205|SUELY LEME MARI A...|             2135|    50|        1000,00|    1|           NULL|\n",
            "|26805|SUELI BATISTA DA ...|             2135|    50|           0,00|    5|           NULL|\n",
            "+-----+--------------------+-----------------+------+---------------+-----+---------------+\n",
            "only showing top 20 rows\n",
            "\n"
          ]
        }
      ]
    },
    {
      "cell_type": "code",
      "source": [
        "# renomeando colunas\n",
        "\n",
        "# IMPORTANTE: não podemos adicionar esse novo dataFrame, personalizado adicionando a função show.. pois se\n",
        "# adicionarmos a função show.. ele irá adicionar um valor \"none\" na variavel empresas.. pois a função show\n",
        "# não tem um return.. sendo assim ele não retorna nada na empresa.\n",
        "\n",
        "empresas = empresas.withColumnsRenamed({\n",
        "    \"razao_social\":\"nome_empresa\", # Colocar primeiro o nome anterior e depois o nome que deseja\n",
        "    \"qualificacao_responsavel\" : \"q_resp\",\n",
        "    \"capital_social\":\"valor_investido\"\n",
        "})"
      ],
      "metadata": {
        "id": "YxsJH8qN2hJV"
      },
      "execution_count": null,
      "outputs": []
    },
    {
      "cell_type": "code",
      "source": [
        "empresas.show()"
      ],
      "metadata": {
        "colab": {
          "base_uri": "https://localhost:8080/"
        },
        "id": "5QKs-CXU26r9",
        "outputId": "1fc98f16-9b98-4ca9-9426-59705aae842b"
      },
      "execution_count": null,
      "outputs": [
        {
          "output_type": "stream",
          "name": "stdout",
          "text": [
            "+-----+--------------------+-----------------+------+---------------+-----+---------------+\n",
            "| cnpj|        nome_empresa|natureza_juridica|q_resp|valor_investido|porte|ente_federativo|\n",
            "+-----+--------------------+-----------------+------+---------------+-----+---------------+\n",
            "|  306|FRANCAMAR REFRIGE...|             2240|    49|           0,00|    1|           NULL|\n",
            "| 1355|BRASILEIRO & OLIV...|             2062|    49|           0,00|    5|           NULL|\n",
            "| 4820|REGISTRO DE IMOVE...|             3034|    32|           0,00|    5|           NULL|\n",
            "| 5347|ROSELY APARECIDA ...|             2135|    50|           0,00|    5|           NULL|\n",
            "| 6846|BADU E FILHOS TEC...|             2062|    49|        4000,00|    1|           NULL|\n",
            "| 8416|  ELETRICA RUBI LTDA|             2062|    49|           0,00|    5|           NULL|\n",
            "| 8992|SHIROMA VEICULOS ...|             2062|    49|           0,00|    5|           NULL|\n",
            "| 9091|CONTATOS BAR E LA...|             2062|    49|           0,00|    5|           NULL|\n",
            "| 9614|ANTONIA APARECIDA...|             2135|    50|           0,00|    5|           NULL|\n",
            "| 9896|DORACY CORAT DA C...|             2135|    50|           0,00|    5|           NULL|\n",
            "|12112|LANCHONETE RIO VE...|             2062|    49|           0,00|    5|           NULL|\n",
            "|12605|VALMAR JACAREI CO...|             2062|    49|           0,00|    5|           NULL|\n",
            "|13407|ROSANA CRISTINA D...|             2135|    50|           0,00|    5|           NULL|\n",
            "|13408|CELIO RODRIGUES D...|             2135|    50|           0,00|    5|           NULL|\n",
            "|13721|MAQFRAN COMERCIO ...|             2062|    49|           0,00|    1|           NULL|\n",
            "|21181|MOURA & SILVA MER...|             2062|    49|           0,00|    5|           NULL|\n",
            "|21858|PAMARATI COMERCIO...|             2135|    50|           0,00|    1|           NULL|\n",
            "|22277|INACIO RODRIGUES ...|             2135|    50|           0,00|    5|           NULL|\n",
            "|24205|SUELY LEME MARI A...|             2135|    50|        1000,00|    1|           NULL|\n",
            "|26805|SUELI BATISTA DA ...|             2135|    50|           0,00|    5|           NULL|\n",
            "+-----+--------------------+-----------------+------+---------------+-----+---------------+\n",
            "only showing top 20 rows\n",
            "\n"
          ]
        }
      ]
    },
    {
      "cell_type": "code",
      "source": [
        "# Normalizando dados nulos:\n",
        "\n",
        "# A função \"na\" faz esse tratamento de dados nulos.\n",
        "\n",
        "# Se os dados forem string:\n",
        "empresas = empresas.na.fill(\"N/A\")\n",
        "\n",
        "# se os dados forem numéricos:\n",
        "empresas = empresas.na.fill(0)"
      ],
      "metadata": {
        "id": "psjyyhG7350w"
      },
      "execution_count": null,
      "outputs": []
    },
    {
      "cell_type": "code",
      "source": [
        "empresas.show()"
      ],
      "metadata": {
        "colab": {
          "base_uri": "https://localhost:8080/"
        },
        "id": "oCFKyc7U7zX-",
        "outputId": "fa2a1123-291a-44db-d273-dd1e9d783d08"
      },
      "execution_count": null,
      "outputs": [
        {
          "output_type": "stream",
          "name": "stdout",
          "text": [
            "+-----+--------------------+-----------------+------+---------------+-----+---------------+\n",
            "| cnpj|        nome_empresa|natureza_juridica|q_resp|valor_investido|porte|ente_federativo|\n",
            "+-----+--------------------+-----------------+------+---------------+-----+---------------+\n",
            "|  306|FRANCAMAR REFRIGE...|             2240|    49|           0,00|    1|            N/A|\n",
            "| 1355|BRASILEIRO & OLIV...|             2062|    49|           0,00|    5|            N/A|\n",
            "| 4820|REGISTRO DE IMOVE...|             3034|    32|           0,00|    5|            N/A|\n",
            "| 5347|ROSELY APARECIDA ...|             2135|    50|           0,00|    5|            N/A|\n",
            "| 6846|BADU E FILHOS TEC...|             2062|    49|        4000,00|    1|            N/A|\n",
            "| 8416|  ELETRICA RUBI LTDA|             2062|    49|           0,00|    5|            N/A|\n",
            "| 8992|SHIROMA VEICULOS ...|             2062|    49|           0,00|    5|            N/A|\n",
            "| 9091|CONTATOS BAR E LA...|             2062|    49|           0,00|    5|            N/A|\n",
            "| 9614|ANTONIA APARECIDA...|             2135|    50|           0,00|    5|            N/A|\n",
            "| 9896|DORACY CORAT DA C...|             2135|    50|           0,00|    5|            N/A|\n",
            "|12112|LANCHONETE RIO VE...|             2062|    49|           0,00|    5|            N/A|\n",
            "|12605|VALMAR JACAREI CO...|             2062|    49|           0,00|    5|            N/A|\n",
            "|13407|ROSANA CRISTINA D...|             2135|    50|           0,00|    5|            N/A|\n",
            "|13408|CELIO RODRIGUES D...|             2135|    50|           0,00|    5|            N/A|\n",
            "|13721|MAQFRAN COMERCIO ...|             2062|    49|           0,00|    1|            N/A|\n",
            "|21181|MOURA & SILVA MER...|             2062|    49|           0,00|    5|            N/A|\n",
            "|21858|PAMARATI COMERCIO...|             2135|    50|           0,00|    1|            N/A|\n",
            "|22277|INACIO RODRIGUES ...|             2135|    50|           0,00|    5|            N/A|\n",
            "|24205|SUELY LEME MARI A...|             2135|    50|        1000,00|    1|            N/A|\n",
            "|26805|SUELI BATISTA DA ...|             2135|    50|           0,00|    5|            N/A|\n",
            "+-----+--------------------+-----------------+------+---------------+-----+---------------+\n",
            "only showing top 20 rows\n",
            "\n"
          ]
        }
      ]
    },
    {
      "cell_type": "code",
      "source": [
        "# Traga empresas que possuem a palavra \"RESTAURANTE\" em sua descrição:\n",
        "\n",
        "empresas.where(\"nome_empresa like '%RESTAURANTE%'\")\\\n",
        ".orderBy(\"nome_empresa\", ascending=False)\\\n",
        ".show(10, False)"
      ],
      "metadata": {
        "colab": {
          "base_uri": "https://localhost:8080/"
        },
        "id": "mVnsDMmC71L4",
        "outputId": "cbf56b59-d101-4e59-d08b-30f483b72068"
      },
      "execution_count": null,
      "outputs": [
        {
          "output_type": "stream",
          "name": "stdout",
          "text": [
            "+--------+---------------------------------------+-----------------+------+---------------+-----+---------------+\n",
            "|cnpj    |nome_empresa                           |natureza_juridica|q_resp|valor_investido|porte|ente_federativo|\n",
            "+--------+---------------------------------------+-----------------+------+---------------+-----+---------------+\n",
            "|3295435 |ZUZUBEM BAR E RESTAURANTE LTDA.        |2062             |49    |0,00           |1    |N/A            |\n",
            "|55979876|ZUPPO S RESTAURANTE LTDA               |2062             |49    |0,00           |5    |N/A            |\n",
            "|4850826 |ZUPPA RESTAURANTE E BUFFET LTDA        |2062             |49    |0,00           |1    |N/A            |\n",
            "|37679543|ZUMY RESTAURANTE LTDA                  |2062             |49    |50000,00       |1    |N/A            |\n",
            "|30663090|ZUMPYARA BAR E RESTAURANTE LTDA        |2062             |49    |0,00           |5    |N/A            |\n",
            "|36546265|ZULU 2000 BAR E RESTAURANTE LTDA       |2062             |49    |0,00           |1    |N/A            |\n",
            "|20167414|ZULMIR PERUZZO RESTAURANTE  EIRELI     |2305             |65    |72400,00       |1    |N/A            |\n",
            "|28479701|ZUH RESTAURANTE LTDA                   |2062             |49    |10000,00       |1    |N/A            |\n",
            "|67398495|ZUCCA'S RESTAURANTE CHOPERIA E BAR LTDA|2062             |49    |0,00           |5    |N/A            |\n",
            "|21065165|ZUCCA - RESTAURANTE EIRELI             |2305             |65    |95400,00       |1    |N/A            |\n",
            "+--------+---------------------------------------+-----------------+------+---------------+-----+---------------+\n",
            "only showing top 10 rows\n",
            "\n"
          ]
        }
      ]
    },
    {
      "cell_type": "code",
      "source": [
        "# para converter a coluna valor investido, devemos substituir a virgula por ponto.\n",
        "\n",
        "# withColum = comando para fazer qualquer alteração nas colunas no dataframe\n",
        "\n",
        "empresas.withColumn(\"valor_investido\", f.regexp_replace(\"valor_investido\", \",\", \".\")).show()"
      ],
      "metadata": {
        "colab": {
          "base_uri": "https://localhost:8080/"
        },
        "id": "pRPYt6auAavA",
        "outputId": "ae934c30-093a-418d-96a6-25961f20468f"
      },
      "execution_count": null,
      "outputs": [
        {
          "output_type": "stream",
          "name": "stdout",
          "text": [
            "+-----+--------------------+-----------------+------+---------------+-----+---------------+\n",
            "| cnpj|        nome_empresa|natureza_juridica|q_resp|valor_investido|porte|ente_federativo|\n",
            "+-----+--------------------+-----------------+------+---------------+-----+---------------+\n",
            "|  306|FRANCAMAR REFRIGE...|             2240|    49|           0.00|    1|            N/A|\n",
            "| 1355|BRASILEIRO & OLIV...|             2062|    49|           0.00|    5|            N/A|\n",
            "| 4820|REGISTRO DE IMOVE...|             3034|    32|           0.00|    5|            N/A|\n",
            "| 5347|ROSELY APARECIDA ...|             2135|    50|           0.00|    5|            N/A|\n",
            "| 6846|BADU E FILHOS TEC...|             2062|    49|        4000.00|    1|            N/A|\n",
            "| 8416|  ELETRICA RUBI LTDA|             2062|    49|           0.00|    5|            N/A|\n",
            "| 8992|SHIROMA VEICULOS ...|             2062|    49|           0.00|    5|            N/A|\n",
            "| 9091|CONTATOS BAR E LA...|             2062|    49|           0.00|    5|            N/A|\n",
            "| 9614|ANTONIA APARECIDA...|             2135|    50|           0.00|    5|            N/A|\n",
            "| 9896|DORACY CORAT DA C...|             2135|    50|           0.00|    5|            N/A|\n",
            "|12112|LANCHONETE RIO VE...|             2062|    49|           0.00|    5|            N/A|\n",
            "|12605|VALMAR JACAREI CO...|             2062|    49|           0.00|    5|            N/A|\n",
            "|13407|ROSANA CRISTINA D...|             2135|    50|           0.00|    5|            N/A|\n",
            "|13408|CELIO RODRIGUES D...|             2135|    50|           0.00|    5|            N/A|\n",
            "|13721|MAQFRAN COMERCIO ...|             2062|    49|           0.00|    1|            N/A|\n",
            "|21181|MOURA & SILVA MER...|             2062|    49|           0.00|    5|            N/A|\n",
            "|21858|PAMARATI COMERCIO...|             2135|    50|           0.00|    1|            N/A|\n",
            "|22277|INACIO RODRIGUES ...|             2135|    50|           0.00|    5|            N/A|\n",
            "|24205|SUELY LEME MARI A...|             2135|    50|        1000.00|    1|            N/A|\n",
            "|26805|SUELI BATISTA DA ...|             2135|    50|           0.00|    5|            N/A|\n",
            "+-----+--------------------+-----------------+------+---------------+-----+---------------+\n",
            "only showing top 20 rows\n",
            "\n"
          ]
        }
      ]
    },
    {
      "cell_type": "code",
      "source": [
        "# Mostre a media de valor investido por natureza_juridica\n",
        "\n",
        "empresas.groupBy(\"natureza_juridica\").agg(\n",
        "    f.mean(\"valor_investido\").alias(\"media_investimento\")\n",
        ").show()"
      ],
      "metadata": {
        "colab": {
          "base_uri": "https://localhost:8080/"
        },
        "id": "BP3cJslo8SP6",
        "outputId": "28e038a8-3145-4ce9-82f7-4cd3d8ef284e"
      },
      "execution_count": null,
      "outputs": [
        {
          "output_type": "stream",
          "name": "stdout",
          "text": [
            "+-----------------+------------------+\n",
            "|natureza_juridica|media_investimento|\n",
            "+-----------------+------------------+\n",
            "|             1139|              NULL|\n",
            "|             3220|              NULL|\n",
            "|             2259|              NULL|\n",
            "|             1031|              NULL|\n",
            "|             2313|              NULL|\n",
            "|             2240|              NULL|\n",
            "|             3069|              NULL|\n",
            "|             1210|              NULL|\n",
            "|             2062|              NULL|\n",
            "|             1260|              NULL|\n",
            "|             4014|              NULL|\n",
            "|             2127|              NULL|\n",
            "|             3239|              NULL|\n",
            "|             4090|              NULL|\n",
            "|             4120|              NULL|\n",
            "|             1244|              NULL|\n",
            "|             2038|              NULL|\n",
            "|             2054|              NULL|\n",
            "|             1155|              NULL|\n",
            "|             1082|              NULL|\n",
            "+-----------------+------------------+\n",
            "only showing top 20 rows\n",
            "\n"
          ]
        }
      ]
    },
    {
      "cell_type": "code",
      "source": [
        "# efetivando a alteração\n",
        "\n",
        "empresas = empresas.withColumn(\"valor_investido\", f.regexp_replace(\"valor_investido\", \",\", \".\"))"
      ],
      "metadata": {
        "id": "_SwCZ9ryAs-w"
      },
      "execution_count": null,
      "outputs": []
    },
    {
      "cell_type": "code",
      "source": [
        "empresas.show()"
      ],
      "metadata": {
        "colab": {
          "base_uri": "https://localhost:8080/"
        },
        "id": "DdJv1hikDY6N",
        "outputId": "87576ef9-add5-4834-a4cb-929a7ebe90da"
      },
      "execution_count": null,
      "outputs": [
        {
          "output_type": "stream",
          "name": "stdout",
          "text": [
            "+-----+--------------------+-----------------+------+---------------+-----+---------------+\n",
            "| cnpj|        nome_empresa|natureza_juridica|q_resp|valor_investido|porte|ente_federativo|\n",
            "+-----+--------------------+-----------------+------+---------------+-----+---------------+\n",
            "|  306|FRANCAMAR REFRIGE...|             2240|    49|           0.00|    1|            N/A|\n",
            "| 1355|BRASILEIRO & OLIV...|             2062|    49|           0.00|    5|            N/A|\n",
            "| 4820|REGISTRO DE IMOVE...|             3034|    32|           0.00|    5|            N/A|\n",
            "| 5347|ROSELY APARECIDA ...|             2135|    50|           0.00|    5|            N/A|\n",
            "| 6846|BADU E FILHOS TEC...|             2062|    49|        4000.00|    1|            N/A|\n",
            "| 8416|  ELETRICA RUBI LTDA|             2062|    49|           0.00|    5|            N/A|\n",
            "| 8992|SHIROMA VEICULOS ...|             2062|    49|           0.00|    5|            N/A|\n",
            "| 9091|CONTATOS BAR E LA...|             2062|    49|           0.00|    5|            N/A|\n",
            "| 9614|ANTONIA APARECIDA...|             2135|    50|           0.00|    5|            N/A|\n",
            "| 9896|DORACY CORAT DA C...|             2135|    50|           0.00|    5|            N/A|\n",
            "|12112|LANCHONETE RIO VE...|             2062|    49|           0.00|    5|            N/A|\n",
            "|12605|VALMAR JACAREI CO...|             2062|    49|           0.00|    5|            N/A|\n",
            "|13407|ROSANA CRISTINA D...|             2135|    50|           0.00|    5|            N/A|\n",
            "|13408|CELIO RODRIGUES D...|             2135|    50|           0.00|    5|            N/A|\n",
            "|13721|MAQFRAN COMERCIO ...|             2062|    49|           0.00|    1|            N/A|\n",
            "|21181|MOURA & SILVA MER...|             2062|    49|           0.00|    5|            N/A|\n",
            "|21858|PAMARATI COMERCIO...|             2135|    50|           0.00|    1|            N/A|\n",
            "|22277|INACIO RODRIGUES ...|             2135|    50|           0.00|    5|            N/A|\n",
            "|24205|SUELY LEME MARI A...|             2135|    50|        1000.00|    1|            N/A|\n",
            "|26805|SUELI BATISTA DA ...|             2135|    50|           0.00|    5|            N/A|\n",
            "+-----+--------------------+-----------------+------+---------------+-----+---------------+\n",
            "only showing top 20 rows\n",
            "\n"
          ]
        }
      ]
    },
    {
      "cell_type": "code",
      "source": [
        "empresas.printSchema()"
      ],
      "metadata": {
        "colab": {
          "base_uri": "https://localhost:8080/"
        },
        "id": "WEYEf5ex_iJm",
        "outputId": "0bf14d30-385a-4aa0-e692-b2238eb69296"
      },
      "execution_count": null,
      "outputs": [
        {
          "output_type": "stream",
          "name": "stdout",
          "text": [
            "root\n",
            " |-- cnpj: integer (nullable = true)\n",
            " |-- nome_empresa: string (nullable = false)\n",
            " |-- natureza_juridica: integer (nullable = true)\n",
            " |-- q_resp: integer (nullable = true)\n",
            " |-- valor_investido: string (nullable = false)\n",
            " |-- porte: integer (nullable = true)\n",
            " |-- ente_federativo: string (nullable = false)\n",
            "\n"
          ]
        }
      ]
    },
    {
      "cell_type": "code",
      "source": [
        "# Convertendo um campo string para float:\n",
        "\n",
        "empresas.withColumn(\"valor_investido\", empresas.valor_investido.cast(\"float\")).show()"
      ],
      "metadata": {
        "colab": {
          "base_uri": "https://localhost:8080/"
        },
        "id": "PC-EOhDIDaPX",
        "outputId": "bb77d7e3-44e1-403e-d6e6-488732671576"
      },
      "execution_count": null,
      "outputs": [
        {
          "output_type": "stream",
          "name": "stdout",
          "text": [
            "+-----+--------------------+-----------------+------+---------------+-----+---------------+\n",
            "| cnpj|        nome_empresa|natureza_juridica|q_resp|valor_investido|porte|ente_federativo|\n",
            "+-----+--------------------+-----------------+------+---------------+-----+---------------+\n",
            "|  306|FRANCAMAR REFRIGE...|             2240|    49|            0.0|    1|            N/A|\n",
            "| 1355|BRASILEIRO & OLIV...|             2062|    49|            0.0|    5|            N/A|\n",
            "| 4820|REGISTRO DE IMOVE...|             3034|    32|            0.0|    5|            N/A|\n",
            "| 5347|ROSELY APARECIDA ...|             2135|    50|            0.0|    5|            N/A|\n",
            "| 6846|BADU E FILHOS TEC...|             2062|    49|         4000.0|    1|            N/A|\n",
            "| 8416|  ELETRICA RUBI LTDA|             2062|    49|            0.0|    5|            N/A|\n",
            "| 8992|SHIROMA VEICULOS ...|             2062|    49|            0.0|    5|            N/A|\n",
            "| 9091|CONTATOS BAR E LA...|             2062|    49|            0.0|    5|            N/A|\n",
            "| 9614|ANTONIA APARECIDA...|             2135|    50|            0.0|    5|            N/A|\n",
            "| 9896|DORACY CORAT DA C...|             2135|    50|            0.0|    5|            N/A|\n",
            "|12112|LANCHONETE RIO VE...|             2062|    49|            0.0|    5|            N/A|\n",
            "|12605|VALMAR JACAREI CO...|             2062|    49|            0.0|    5|            N/A|\n",
            "|13407|ROSANA CRISTINA D...|             2135|    50|            0.0|    5|            N/A|\n",
            "|13408|CELIO RODRIGUES D...|             2135|    50|            0.0|    5|            N/A|\n",
            "|13721|MAQFRAN COMERCIO ...|             2062|    49|            0.0|    1|            N/A|\n",
            "|21181|MOURA & SILVA MER...|             2062|    49|            0.0|    5|            N/A|\n",
            "|21858|PAMARATI COMERCIO...|             2135|    50|            0.0|    1|            N/A|\n",
            "|22277|INACIO RODRIGUES ...|             2135|    50|            0.0|    5|            N/A|\n",
            "|24205|SUELY LEME MARI A...|             2135|    50|         1000.0|    1|            N/A|\n",
            "|26805|SUELI BATISTA DA ...|             2135|    50|            0.0|    5|            N/A|\n",
            "+-----+--------------------+-----------------+------+---------------+-----+---------------+\n",
            "only showing top 20 rows\n",
            "\n"
          ]
        }
      ]
    },
    {
      "cell_type": "code",
      "source": [
        "empresas = empresas.withColumn(\"valor_investido\", empresas.valor_investido.cast(\"float\"))"
      ],
      "metadata": {
        "id": "gVCdgpn6EYJe"
      },
      "execution_count": null,
      "outputs": []
    },
    {
      "cell_type": "code",
      "source": [
        "empresas.printSchema()"
      ],
      "metadata": {
        "colab": {
          "base_uri": "https://localhost:8080/"
        },
        "id": "ZvD2-OhHEv8D",
        "outputId": "88da4429-9ce1-4ea8-ca7d-0607056e1766"
      },
      "execution_count": null,
      "outputs": [
        {
          "output_type": "stream",
          "name": "stdout",
          "text": [
            "root\n",
            " |-- cnpj: integer (nullable = true)\n",
            " |-- nome_empresa: string (nullable = false)\n",
            " |-- natureza_juridica: integer (nullable = true)\n",
            " |-- q_resp: integer (nullable = true)\n",
            " |-- valor_investido: float (nullable = true)\n",
            " |-- porte: integer (nullable = true)\n",
            " |-- ente_federativo: string (nullable = false)\n",
            "\n"
          ]
        }
      ]
    },
    {
      "cell_type": "code",
      "source": [
        "# fazendo um backup do dataframe\n",
        "\n",
        "bkp = empresas"
      ],
      "metadata": {
        "id": "JB-qUlfxFLkf"
      },
      "execution_count": null,
      "outputs": []
    },
    {
      "cell_type": "code",
      "source": [
        "# Mostrar a média de valor investido por natureza juridica:\n",
        "\n",
        "empresas\\\n",
        "        .groupBy(\"natureza_juridica\")\\\n",
        "        .agg(\n",
        "            f.mean(\"valor_investido\").alias(\"media_investimento\")\n",
        "        )\\\n",
        "        .orderBy(\"media_investimento\", ascending=False)\\\n",
        "        .toPandas()"
      ],
      "metadata": {
        "colab": {
          "base_uri": "https://localhost:8080/",
          "height": 424
        },
        "id": "zUbTnrFQGxga",
        "outputId": "5d3a8b05-d0f0-404b-e66e-55a9b170822b"
      },
      "execution_count": null,
      "outputs": [
        {
          "output_type": "execute_result",
          "data": {
            "text/plain": [
              "    natureza_juridica  media_investimento\n",
              "0                2046        2.670461e+08\n",
              "1                2038        6.751107e+07\n",
              "2                2054        4.776993e+07\n",
              "3                2011        3.142580e+07\n",
              "4                2127        1.792158e+06\n",
              "..                ...                 ...\n",
              "72               1309        0.000000e+00\n",
              "73               1171        0.000000e+00\n",
              "74               1317        0.000000e+00\n",
              "75               1228        0.000000e+00\n",
              "76               2291        0.000000e+00\n",
              "\n",
              "[77 rows x 2 columns]"
            ],
            "text/html": [
              "\n",
              "  <div id=\"df-6cb0bee7-4782-4000-9267-a9d5b75a6e71\" class=\"colab-df-container\">\n",
              "    <div>\n",
              "<style scoped>\n",
              "    .dataframe tbody tr th:only-of-type {\n",
              "        vertical-align: middle;\n",
              "    }\n",
              "\n",
              "    .dataframe tbody tr th {\n",
              "        vertical-align: top;\n",
              "    }\n",
              "\n",
              "    .dataframe thead th {\n",
              "        text-align: right;\n",
              "    }\n",
              "</style>\n",
              "<table border=\"1\" class=\"dataframe\">\n",
              "  <thead>\n",
              "    <tr style=\"text-align: right;\">\n",
              "      <th></th>\n",
              "      <th>natureza_juridica</th>\n",
              "      <th>media_investimento</th>\n",
              "    </tr>\n",
              "  </thead>\n",
              "  <tbody>\n",
              "    <tr>\n",
              "      <th>0</th>\n",
              "      <td>2046</td>\n",
              "      <td>2.670461e+08</td>\n",
              "    </tr>\n",
              "    <tr>\n",
              "      <th>1</th>\n",
              "      <td>2038</td>\n",
              "      <td>6.751107e+07</td>\n",
              "    </tr>\n",
              "    <tr>\n",
              "      <th>2</th>\n",
              "      <td>2054</td>\n",
              "      <td>4.776993e+07</td>\n",
              "    </tr>\n",
              "    <tr>\n",
              "      <th>3</th>\n",
              "      <td>2011</td>\n",
              "      <td>3.142580e+07</td>\n",
              "    </tr>\n",
              "    <tr>\n",
              "      <th>4</th>\n",
              "      <td>2127</td>\n",
              "      <td>1.792158e+06</td>\n",
              "    </tr>\n",
              "    <tr>\n",
              "      <th>...</th>\n",
              "      <td>...</td>\n",
              "      <td>...</td>\n",
              "    </tr>\n",
              "    <tr>\n",
              "      <th>72</th>\n",
              "      <td>1309</td>\n",
              "      <td>0.000000e+00</td>\n",
              "    </tr>\n",
              "    <tr>\n",
              "      <th>73</th>\n",
              "      <td>1171</td>\n",
              "      <td>0.000000e+00</td>\n",
              "    </tr>\n",
              "    <tr>\n",
              "      <th>74</th>\n",
              "      <td>1317</td>\n",
              "      <td>0.000000e+00</td>\n",
              "    </tr>\n",
              "    <tr>\n",
              "      <th>75</th>\n",
              "      <td>1228</td>\n",
              "      <td>0.000000e+00</td>\n",
              "    </tr>\n",
              "    <tr>\n",
              "      <th>76</th>\n",
              "      <td>2291</td>\n",
              "      <td>0.000000e+00</td>\n",
              "    </tr>\n",
              "  </tbody>\n",
              "</table>\n",
              "<p>77 rows × 2 columns</p>\n",
              "</div>\n",
              "    <div class=\"colab-df-buttons\">\n",
              "\n",
              "  <div class=\"colab-df-container\">\n",
              "    <button class=\"colab-df-convert\" onclick=\"convertToInteractive('df-6cb0bee7-4782-4000-9267-a9d5b75a6e71')\"\n",
              "            title=\"Convert this dataframe to an interactive table.\"\n",
              "            style=\"display:none;\">\n",
              "\n",
              "  <svg xmlns=\"http://www.w3.org/2000/svg\" height=\"24px\" viewBox=\"0 -960 960 960\">\n",
              "    <path d=\"M120-120v-720h720v720H120Zm60-500h600v-160H180v160Zm220 220h160v-160H400v160Zm0 220h160v-160H400v160ZM180-400h160v-160H180v160Zm440 0h160v-160H620v160ZM180-180h160v-160H180v160Zm440 0h160v-160H620v160Z\"/>\n",
              "  </svg>\n",
              "    </button>\n",
              "\n",
              "  <style>\n",
              "    .colab-df-container {\n",
              "      display:flex;\n",
              "      gap: 12px;\n",
              "    }\n",
              "\n",
              "    .colab-df-convert {\n",
              "      background-color: #E8F0FE;\n",
              "      border: none;\n",
              "      border-radius: 50%;\n",
              "      cursor: pointer;\n",
              "      display: none;\n",
              "      fill: #1967D2;\n",
              "      height: 32px;\n",
              "      padding: 0 0 0 0;\n",
              "      width: 32px;\n",
              "    }\n",
              "\n",
              "    .colab-df-convert:hover {\n",
              "      background-color: #E2EBFA;\n",
              "      box-shadow: 0px 1px 2px rgba(60, 64, 67, 0.3), 0px 1px 3px 1px rgba(60, 64, 67, 0.15);\n",
              "      fill: #174EA6;\n",
              "    }\n",
              "\n",
              "    .colab-df-buttons div {\n",
              "      margin-bottom: 4px;\n",
              "    }\n",
              "\n",
              "    [theme=dark] .colab-df-convert {\n",
              "      background-color: #3B4455;\n",
              "      fill: #D2E3FC;\n",
              "    }\n",
              "\n",
              "    [theme=dark] .colab-df-convert:hover {\n",
              "      background-color: #434B5C;\n",
              "      box-shadow: 0px 1px 3px 1px rgba(0, 0, 0, 0.15);\n",
              "      filter: drop-shadow(0px 1px 2px rgba(0, 0, 0, 0.3));\n",
              "      fill: #FFFFFF;\n",
              "    }\n",
              "  </style>\n",
              "\n",
              "    <script>\n",
              "      const buttonEl =\n",
              "        document.querySelector('#df-6cb0bee7-4782-4000-9267-a9d5b75a6e71 button.colab-df-convert');\n",
              "      buttonEl.style.display =\n",
              "        google.colab.kernel.accessAllowed ? 'block' : 'none';\n",
              "\n",
              "      async function convertToInteractive(key) {\n",
              "        const element = document.querySelector('#df-6cb0bee7-4782-4000-9267-a9d5b75a6e71');\n",
              "        const dataTable =\n",
              "          await google.colab.kernel.invokeFunction('convertToInteractive',\n",
              "                                                    [key], {});\n",
              "        if (!dataTable) return;\n",
              "\n",
              "        const docLinkHtml = 'Like what you see? Visit the ' +\n",
              "          '<a target=\"_blank\" href=https://colab.research.google.com/notebooks/data_table.ipynb>data table notebook</a>'\n",
              "          + ' to learn more about interactive tables.';\n",
              "        element.innerHTML = '';\n",
              "        dataTable['output_type'] = 'display_data';\n",
              "        await google.colab.output.renderOutput(dataTable, element);\n",
              "        const docLink = document.createElement('div');\n",
              "        docLink.innerHTML = docLinkHtml;\n",
              "        element.appendChild(docLink);\n",
              "      }\n",
              "    </script>\n",
              "  </div>\n",
              "\n",
              "\n",
              "<div id=\"df-29bd1204-6176-4292-8a09-022c9e27c3da\">\n",
              "  <button class=\"colab-df-quickchart\" onclick=\"quickchart('df-29bd1204-6176-4292-8a09-022c9e27c3da')\"\n",
              "            title=\"Suggest charts\"\n",
              "            style=\"display:none;\">\n",
              "\n",
              "<svg xmlns=\"http://www.w3.org/2000/svg\" height=\"24px\"viewBox=\"0 0 24 24\"\n",
              "     width=\"24px\">\n",
              "    <g>\n",
              "        <path d=\"M19 3H5c-1.1 0-2 .9-2 2v14c0 1.1.9 2 2 2h14c1.1 0 2-.9 2-2V5c0-1.1-.9-2-2-2zM9 17H7v-7h2v7zm4 0h-2V7h2v10zm4 0h-2v-4h2v4z\"/>\n",
              "    </g>\n",
              "</svg>\n",
              "  </button>\n",
              "\n",
              "<style>\n",
              "  .colab-df-quickchart {\n",
              "      --bg-color: #E8F0FE;\n",
              "      --fill-color: #1967D2;\n",
              "      --hover-bg-color: #E2EBFA;\n",
              "      --hover-fill-color: #174EA6;\n",
              "      --disabled-fill-color: #AAA;\n",
              "      --disabled-bg-color: #DDD;\n",
              "  }\n",
              "\n",
              "  [theme=dark] .colab-df-quickchart {\n",
              "      --bg-color: #3B4455;\n",
              "      --fill-color: #D2E3FC;\n",
              "      --hover-bg-color: #434B5C;\n",
              "      --hover-fill-color: #FFFFFF;\n",
              "      --disabled-bg-color: #3B4455;\n",
              "      --disabled-fill-color: #666;\n",
              "  }\n",
              "\n",
              "  .colab-df-quickchart {\n",
              "    background-color: var(--bg-color);\n",
              "    border: none;\n",
              "    border-radius: 50%;\n",
              "    cursor: pointer;\n",
              "    display: none;\n",
              "    fill: var(--fill-color);\n",
              "    height: 32px;\n",
              "    padding: 0;\n",
              "    width: 32px;\n",
              "  }\n",
              "\n",
              "  .colab-df-quickchart:hover {\n",
              "    background-color: var(--hover-bg-color);\n",
              "    box-shadow: 0 1px 2px rgba(60, 64, 67, 0.3), 0 1px 3px 1px rgba(60, 64, 67, 0.15);\n",
              "    fill: var(--button-hover-fill-color);\n",
              "  }\n",
              "\n",
              "  .colab-df-quickchart-complete:disabled,\n",
              "  .colab-df-quickchart-complete:disabled:hover {\n",
              "    background-color: var(--disabled-bg-color);\n",
              "    fill: var(--disabled-fill-color);\n",
              "    box-shadow: none;\n",
              "  }\n",
              "\n",
              "  .colab-df-spinner {\n",
              "    border: 2px solid var(--fill-color);\n",
              "    border-color: transparent;\n",
              "    border-bottom-color: var(--fill-color);\n",
              "    animation:\n",
              "      spin 1s steps(1) infinite;\n",
              "  }\n",
              "\n",
              "  @keyframes spin {\n",
              "    0% {\n",
              "      border-color: transparent;\n",
              "      border-bottom-color: var(--fill-color);\n",
              "      border-left-color: var(--fill-color);\n",
              "    }\n",
              "    20% {\n",
              "      border-color: transparent;\n",
              "      border-left-color: var(--fill-color);\n",
              "      border-top-color: var(--fill-color);\n",
              "    }\n",
              "    30% {\n",
              "      border-color: transparent;\n",
              "      border-left-color: var(--fill-color);\n",
              "      border-top-color: var(--fill-color);\n",
              "      border-right-color: var(--fill-color);\n",
              "    }\n",
              "    40% {\n",
              "      border-color: transparent;\n",
              "      border-right-color: var(--fill-color);\n",
              "      border-top-color: var(--fill-color);\n",
              "    }\n",
              "    60% {\n",
              "      border-color: transparent;\n",
              "      border-right-color: var(--fill-color);\n",
              "    }\n",
              "    80% {\n",
              "      border-color: transparent;\n",
              "      border-right-color: var(--fill-color);\n",
              "      border-bottom-color: var(--fill-color);\n",
              "    }\n",
              "    90% {\n",
              "      border-color: transparent;\n",
              "      border-bottom-color: var(--fill-color);\n",
              "    }\n",
              "  }\n",
              "</style>\n",
              "\n",
              "  <script>\n",
              "    async function quickchart(key) {\n",
              "      const quickchartButtonEl =\n",
              "        document.querySelector('#' + key + ' button');\n",
              "      quickchartButtonEl.disabled = true;  // To prevent multiple clicks.\n",
              "      quickchartButtonEl.classList.add('colab-df-spinner');\n",
              "      try {\n",
              "        const charts = await google.colab.kernel.invokeFunction(\n",
              "            'suggestCharts', [key], {});\n",
              "      } catch (error) {\n",
              "        console.error('Error during call to suggestCharts:', error);\n",
              "      }\n",
              "      quickchartButtonEl.classList.remove('colab-df-spinner');\n",
              "      quickchartButtonEl.classList.add('colab-df-quickchart-complete');\n",
              "    }\n",
              "    (() => {\n",
              "      let quickchartButtonEl =\n",
              "        document.querySelector('#df-29bd1204-6176-4292-8a09-022c9e27c3da button');\n",
              "      quickchartButtonEl.style.display =\n",
              "        google.colab.kernel.accessAllowed ? 'block' : 'none';\n",
              "    })();\n",
              "  </script>\n",
              "</div>\n",
              "\n",
              "    </div>\n",
              "  </div>\n"
            ]
          },
          "metadata": {},
          "execution_count": 86
        }
      ]
    },
    {
      "cell_type": "code",
      "source": [
        "# Criando um novo DataFrame somente com Hospitais:\n",
        "\n",
        "hospitais = empresas\\\n",
        "                    .where(\"nome_empresa like 'HOSPITAL %'\")"
      ],
      "metadata": {
        "id": "1L87d1nEG4YN"
      },
      "execution_count": null,
      "outputs": []
    },
    {
      "cell_type": "code",
      "source": [
        "hospitais.count()"
      ],
      "metadata": {
        "colab": {
          "base_uri": "https://localhost:8080/"
        },
        "id": "R0cxghlAI4yt",
        "outputId": "a6db7291-feb6-4b4c-e70e-45eeee500bb3"
      },
      "execution_count": null,
      "outputs": [
        {
          "output_type": "execute_result",
          "data": {
            "text/plain": [
              "366"
            ]
          },
          "metadata": {},
          "execution_count": 88
        }
      ]
    },
    {
      "cell_type": "code",
      "source": [
        "hospitais.show(10, False)"
      ],
      "metadata": {
        "colab": {
          "base_uri": "https://localhost:8080/"
        },
        "id": "vOAUV85RJdrG",
        "outputId": "608e564b-0ff5-4230-f1ea-cd1a5f1f8d01"
      },
      "execution_count": null,
      "outputs": [
        {
          "output_type": "stream",
          "name": "stdout",
          "text": [
            "+--------+-----------------------------------------------------+-----------------+------+---------------+-----+---------------+\n",
            "|cnpj    |nome_empresa                                         |natureza_juridica|q_resp|valor_investido|porte|ente_federativo|\n",
            "+--------+-----------------------------------------------------+-----------------+------+---------------+-----+---------------+\n",
            "|8992012 |HOSPITAL DE CLINICAS E MATERNIDADE DA ZONA OESTE LTDA|2240             |49    |50000.0        |1    |N/A            |\n",
            "|24970428|HOSPITAL MUNICIPAL NOSSA SENHORA APARECIDA           |1031             |16    |0.0            |5    |SERRANIA - MG  |\n",
            "|35359145|HOSPITAL SAO FRANCISCO DE BARREIRAS LTDA             |2062             |5     |2.6667E7       |5    |N/A            |\n",
            "|37437944|HOSPITAL NOVA BRASILIA LTDA                          |2062             |49    |10000.0        |1    |N/A            |\n",
            "|36408815|HOSPITAL VETERINARIO MUNDO ANIMAL LTDA               |2062             |49    |20000.0        |1    |N/A            |\n",
            "|78366028|HOSPITAL MARIA SANTISSIMA LTDA                       |2062             |49    |0.0            |1    |N/A            |\n",
            "|2883080 |HOSPITAL E MATERNIDADE DALZIRA LTDA                  |2062             |49    |0.0            |5    |N/A            |\n",
            "|9936865 |HOSPITAL GERAL DE URGENCIA LTDA                      |2062             |49    |0.0            |5    |N/A            |\n",
            "|89428718|HOSPITAL DE CARIDADE DE ERECHIM                      |3999             |16    |0.0            |5    |N/A            |\n",
            "|14280630|HOSPITAL SANTO ANTONIO                               |8885             |0     |0.0            |5    |N/A            |\n",
            "+--------+-----------------------------------------------------+-----------------+------+---------------+-----+---------------+\n",
            "only showing top 10 rows\n",
            "\n"
          ]
        }
      ]
    },
    {
      "cell_type": "markdown",
      "source": [],
      "metadata": {
        "id": "tvODSykFR_iO"
      }
    },
    {
      "cell_type": "code",
      "source": [
        "\"\"\"\n",
        "Atividade em sala de aula:\n",
        "\n",
        "1 - Mude o nome da coluna \"natureza_juridica\" para \"natureza\" e da coluna \"ente_federativo\" para \"ente\".\n",
        "\n",
        "2 - Verifique quantas empresas estão em recuperação judicial (essa informação está no nome da empresa,\n",
        "de forma padronizada).\n",
        "\n",
        "3 - Crie um novo DataFrame somente com as empresas que possuem valor_investido > 500.000 e <= 1.000.000.\n",
        "Quantas empresas estão nessa regra?\n",
        "\"\"\""
      ],
      "metadata": {
        "colab": {
          "base_uri": "https://localhost:8080/",
          "height": 87
        },
        "id": "3HlsPsXxRwK3",
        "outputId": "32cba0c5-bd0e-4642-b378-a5bb724e8c0f"
      },
      "execution_count": null,
      "outputs": [
        {
          "output_type": "execute_result",
          "data": {
            "text/plain": [
              "'\\nAtividade em sala de aula:\\n\\n1 - Mude o nome da coluna \"natureza_juridica\" para \"natureza\" e da coluna \"ente_federativo\" para \"ente\".\\n\\n2 - Verifique quantas empresas estão em recuperação judicial (essa informação está no nome da empresa, \\nde forma padronizada).\\n\\n3 - Crie um novo DataFrame somente com as empresas que possuem valor_investido > 500.000 e <= 1.000.000. \\nQuantas empresas estão nessa regra?\\n'"
            ],
            "application/vnd.google.colaboratory.intrinsic+json": {
              "type": "string"
            }
          },
          "metadata": {},
          "execution_count": 90
        }
      ]
    },
    {
      "cell_type": "code",
      "source": [
        "# 1 - Mude o nome da coluna \"natureza_juridica\" para \"natureza\" e da coluna \"ente_federativo\" para \"ente\".\n",
        "\n",
        "empresas.withColumnsRenamed({\n",
        "    \"natureza_juridica\":\"natureza\",\n",
        "    \"ente_federativo\":\"ente\"\n",
        "}).show()\n"
      ],
      "metadata": {
        "colab": {
          "base_uri": "https://localhost:8080/"
        },
        "id": "uu8XvWvbKK7F",
        "outputId": "85f31232-9e69-4fde-9733-3a508e96cbc5"
      },
      "execution_count": null,
      "outputs": [
        {
          "output_type": "stream",
          "name": "stdout",
          "text": [
            "+-----+--------------------+--------+------+---------------+-----+----+\n",
            "| cnpj|        nome_empresa|natureza|q_resp|valor_investido|porte|ente|\n",
            "+-----+--------------------+--------+------+---------------+-----+----+\n",
            "|  306|FRANCAMAR REFRIGE...|    2240|    49|            0.0|    1| N/A|\n",
            "| 1355|BRASILEIRO & OLIV...|    2062|    49|            0.0|    5| N/A|\n",
            "| 4820|REGISTRO DE IMOVE...|    3034|    32|            0.0|    5| N/A|\n",
            "| 5347|ROSELY APARECIDA ...|    2135|    50|            0.0|    5| N/A|\n",
            "| 6846|BADU E FILHOS TEC...|    2062|    49|         4000.0|    1| N/A|\n",
            "| 8416|  ELETRICA RUBI LTDA|    2062|    49|            0.0|    5| N/A|\n",
            "| 8992|SHIROMA VEICULOS ...|    2062|    49|            0.0|    5| N/A|\n",
            "| 9091|CONTATOS BAR E LA...|    2062|    49|            0.0|    5| N/A|\n",
            "| 9614|ANTONIA APARECIDA...|    2135|    50|            0.0|    5| N/A|\n",
            "| 9896|DORACY CORAT DA C...|    2135|    50|            0.0|    5| N/A|\n",
            "|12112|LANCHONETE RIO VE...|    2062|    49|            0.0|    5| N/A|\n",
            "|12605|VALMAR JACAREI CO...|    2062|    49|            0.0|    5| N/A|\n",
            "|13407|ROSANA CRISTINA D...|    2135|    50|            0.0|    5| N/A|\n",
            "|13408|CELIO RODRIGUES D...|    2135|    50|            0.0|    5| N/A|\n",
            "|13721|MAQFRAN COMERCIO ...|    2062|    49|            0.0|    1| N/A|\n",
            "|21181|MOURA & SILVA MER...|    2062|    49|            0.0|    5| N/A|\n",
            "|21858|PAMARATI COMERCIO...|    2135|    50|            0.0|    1| N/A|\n",
            "|22277|INACIO RODRIGUES ...|    2135|    50|            0.0|    5| N/A|\n",
            "|24205|SUELY LEME MARI A...|    2135|    50|         1000.0|    1| N/A|\n",
            "|26805|SUELI BATISTA DA ...|    2135|    50|            0.0|    5| N/A|\n",
            "+-----+--------------------+--------+------+---------------+-----+----+\n",
            "only showing top 20 rows\n",
            "\n"
          ]
        }
      ]
    },
    {
      "cell_type": "code",
      "source": [
        "# 2 - Verifique quantas empresas estão em recuperação judicial (essa informação está no nome da empresa,\n",
        "# de forma padronizada).\n",
        "\n",
        "\n",
        "recuperacao_judicial = empresas.where(\"nome_empresa like '%RECUPERACAO%'\")\n",
        "recuperacao_judicial.count()"
      ],
      "metadata": {
        "colab": {
          "base_uri": "https://localhost:8080/"
        },
        "id": "bpGKk3TVS4ov",
        "outputId": "2c091f1e-3958-4da9-e686-17ea300ff4b7"
      },
      "execution_count": null,
      "outputs": [
        {
          "output_type": "execute_result",
          "data": {
            "text/plain": [
              "939"
            ]
          },
          "metadata": {},
          "execution_count": 98
        }
      ]
    },
    {
      "cell_type": "code",
      "source": [
        "# 3 - Crie um novo DataFrame somente com as empresas que possuem valor_investido > 500.000 e <= 1.000.000.\n",
        "# Quantas empresas estão nessa regra?\n",
        "\n",
        "valor_investido = empresas.where(\"valor_investido > 500000 and valor_investido < 1000000\")\n",
        "valor_investido.count()"
      ],
      "metadata": {
        "colab": {
          "base_uri": "https://localhost:8080/"
        },
        "id": "aiygoaa6T4BZ",
        "outputId": "24c38042-ebfd-426e-80a4-c2f7f077dfa5"
      },
      "execution_count": null,
      "outputs": [
        {
          "output_type": "execute_result",
          "data": {
            "text/plain": [
              "10378"
            ]
          },
          "metadata": {},
          "execution_count": 106
        }
      ]
    },
    {
      "cell_type": "code",
      "source": [],
      "metadata": {
        "id": "55CN3O_1U1VV"
      },
      "execution_count": null,
      "outputs": []
    }
  ]
}